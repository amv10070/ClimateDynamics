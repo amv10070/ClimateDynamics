{
 "cells": [
  {
   "cell_type": "markdown",
   "metadata": {},
   "source": [
    "### This program serves to build a Radiative Convective model as part of Climate Dynamics assignment 3."
   ]
  },
  {
   "cell_type": "code",
   "execution_count": 14,
   "metadata": {},
   "outputs": [],
   "source": [
    "import numpy as np\n",
    "import pandas as pd\n",
    "import xarray as xr\n",
    "import cartopy.crs as ccrs\n",
    "import cartopy.feature as cfeature\n",
    "from matplotlib import pyplot as plt\n",
    "import matplotlib.ticker as mticker\n",
    "from cartopy.mpl.gridliner import LONGITUDE_FORMATTER, LATITUDE_FORMATTER\n",
    "%matplotlib inline"
   ]
  },
  {
   "cell_type": "code",
   "execution_count": 28,
   "metadata": {},
   "outputs": [],
   "source": [
    "# listing of variables:\n",
    "So = 240 # top of atmosphere radiation (W m−2)\n",
    "tao_inf = 2.8\n",
    "rho_0 = 1.2 # density of air at sea level (kg m-3)\n",
    "#rho_a = rho_a0*exp(-z/H)\n",
    "h = 3 # km \n",
    "sigma = 5.67e-8 #Wm−2K−4\n",
    "LR = 0.6 * (-9.81/1004) #K m−1\n",
    "k = 37.0 # Wm−2K−1\n",
    "Cp = 1004 # J kg−1K−1\n",
    "rho = rho_0*np.exp(-z/H)\n",
    "H = 8 #km "
   ]
  },
  {
   "cell_type": "code",
   "execution_count": 16,
   "metadata": {},
   "outputs": [],
   "source": [
    "# variables we have to play with:\n",
    "z = 10 #km "
   ]
  },
  {
   "cell_type": "code",
   "execution_count": 25,
   "metadata": {},
   "outputs": [],
   "source": [
    "A = 'bouy'"
   ]
  },
  {
   "cell_type": "code",
   "execution_count": 26,
   "metadata": {},
   "outputs": [],
   "source": [
    "a = 5"
   ]
  },
  {
   "cell_type": "code",
   "execution_count": 27,
   "metadata": {},
   "outputs": [
    {
     "data": {
      "text/plain": [
       "False"
      ]
     },
     "execution_count": 27,
     "metadata": {},
     "output_type": "execute_result"
    }
   ],
   "source": [
    "a == A"
   ]
  },
  {
   "cell_type": "code",
   "execution_count": 17,
   "metadata": {},
   "outputs": [],
   "source": [
    "T_surf = ((So/sigma)*(0.5*(tao_inf*np.exp(-z/H)) + 1))**(1/4)"
   ]
  },
  {
   "cell_type": "code",
   "execution_count": 19,
   "metadata": {},
   "outputs": [],
   "source": [
    "T_test = []\n",
    "\n",
    "for z in range(0, 20):\n",
    "    T_test_calc = ((So/sigma)*(0.5*(tao_inf*np.exp(-z/H)) + 1))**(1/4)\n",
    "    T_test.append(T_test_calc)"
   ]
  },
  {
   "cell_type": "code",
   "execution_count": 20,
   "metadata": {},
   "outputs": [
    {
     "data": {
      "text/plain": [
       "(20,)"
      ]
     },
     "execution_count": 20,
     "metadata": {},
     "output_type": "execute_result"
    }
   ],
   "source": [
    "tao_values = np.arange(0, 20, 1)\n",
    "tao_values.shape"
   ]
  },
  {
   "cell_type": "code",
   "execution_count": 31,
   "metadata": {},
   "outputs": [
    {
     "data": {
      "text/plain": [
       "<matplotlib.legend.Legend at 0x11ac5ee48>"
      ]
     },
     "execution_count": 31,
     "metadata": {},
     "output_type": "execute_result"
    },
    {
     "data": {
      "image/png": "[encoded data removed]",
      "text/plain": [
       "<Figure size 720x432 with 1 Axes>"
      ]
     },
     "metadata": {
      "needs_background": "light"
     },
     "output_type": "display_data"
    }
   ],
   "source": [
    "fig, ax = plt.subplots(figsize = (10,6))\n",
    "\n",
    "plt.plot(T_test, tao_values)\n",
    "#plt.plot(T_surf, tao_values)\n",
    "#ax.set_title('Optical Thickness', fontsize = 16)\n",
    "ax.set_xlabel('Tao', fontsize = 14)\n",
    "ax.set_ylabel('Energy [Wm-2]', fontsize = 14);\n",
    "ax.grid()\n",
    "ax.set_ylim(0, 20);\n",
    "ax.set_xlim(150, 350)\n",
    "#plt.axhline(y = pi_B_sfc, color = 'k', linewidth = 1.5, linestyle = '--')\n",
    "#plt.axhline(y = pi_B_above, color = 'k', linewidth = 1.5, linestyle = ':')\n",
    "#plt.axhline(y = So, color = 'k', linewidth = 1.5, linestyle = '-.')\n",
    "ax.legend(['Fd'], fontsize = 14)\n",
    "\n"
   ]
  },
  {
   "cell_type": "code",
   "execution_count": 77,
   "metadata": {},
   "outputs": [
    {
     "data": {
      "text/plain": [
       "2.700112818627693"
      ]
     },
     "execution_count": 77,
     "metadata": {},
     "output_type": "execute_result"
    }
   ],
   "source": [
    "# 1.a.i\n",
    "z = 10\n",
    "tao_z = tao_inf*(1 - np.exp(-z/h))\n",
    "tao_z"
   ]
  },
  {
   "cell_type": "code",
   "execution_count": 78,
   "metadata": {},
   "outputs": [
    {
     "data": {
      "text/plain": [
       "array([0.        , 0.27001128, 0.54002256, 0.81003385, 1.08004513,\n",
       "       1.35005641, 1.62006769, 1.89007897, 2.16009025, 2.43010154,\n",
       "       2.70011282])"
      ]
     },
     "execution_count": 78,
     "metadata": {},
     "output_type": "execute_result"
    }
   ],
   "source": [
    "# 1.a.ii\n",
    "tao_m = np.linspace(0,tao_z, 11)\n",
    "tao_m"
   ]
  },
  {
   "cell_type": "code",
   "execution_count": 79,
   "metadata": {},
   "outputs": [
    {
     "data": {
      "text/plain": [
       "[-0.0,\n",
       " 0.3042003433251881,\n",
       " 0.6427638116908911,\n",
       " 1.0244543353342719,\n",
       " 1.46188537906739,\n",
       " 1.9741675822460258,\n",
       " 2.5923149361107547,\n",
       " 3.3717902899571994,\n",
       " 4.427719559428735,\n",
       " 6.071615071575079,\n",
       " 9.996613530525622]"
      ]
     },
     "execution_count": 79,
     "metadata": {},
     "output_type": "execute_result"
    }
   ],
   "source": [
    "# solve for z from tao_z equation\n",
    "\n",
    "z_m = []\n",
    "\n",
    "for z in np.linspace(0, 2.7, 11):\n",
    "    z_calc_test = -h*(np.log(1 - (z/tao_inf)))\n",
    "    z_m.append(z_calc_test)\n",
    "    \n",
    "z_m"
   ]
  },
  {
   "cell_type": "code",
   "execution_count": 80,
   "metadata": {},
   "outputs": [
    {
     "data": {
      "text/plain": [
       "[299.46456866315015,\n",
       " 293.99721955116223,\n",
       " 288.20661643549477,\n",
       " 282.0443108023896,\n",
       " 275.44936327242715,\n",
       " 268.34349252834426,\n",
       " 260.6235584599731,\n",
       " 252.14937069504956,\n",
       " 242.72276389446688,\n",
       " 232.04899325825053,\n",
       " 219.65835054401276]"
      ]
     },
     "execution_count": 80,
     "metadata": {},
     "output_type": "execute_result"
    }
   ],
   "source": [
    "# 1.a.iii\n",
    "# compute T at each height (z_m) of optical thickness (tao_m) within this mixed layer \n",
    "\n",
    "T_m = []\n",
    "\n",
    "for tao_z in np.linspace(0, 2.7, 11):\n",
    "    tao_z_calc_test = -h*(np.log(1 - (tao_z/tao_inf)))\n",
    "    T = ((So/sigma)*(0.5*(tao_inf*np.exp(-tao_z_calc_test/h)) + 0.5))**(1/4)\n",
    "    T_m.append(T)\n",
    "    \n",
    "T_m\n",
    "\n",
    "# this is radiative eq temp, now want mixed layer linear decreasing T"
   ]
  },
  {
   "cell_type": "code",
   "execution_count": 81,
   "metadata": {},
   "outputs": [
    {
     "data": {
      "text/plain": [
       "array([278.26399521, 276.48060554, 274.49576035, 272.25808065,\n",
       "       269.69361937, 266.69033944, 263.06641979, 258.49670671,\n",
       "       252.30626878, 242.66884948, 219.65835054])"
      ]
     },
     "execution_count": 81,
     "metadata": {},
     "output_type": "execute_result"
    }
   ],
   "source": [
    "T_m[-1] + LR*(z_m-z_m[-1])*1000"
   ]
  },
  {
   "cell_type": "code",
   "execution_count": 82,
   "metadata": {},
   "outputs": [
    {
     "data": {
      "text/plain": [
       "11.986461764676815"
      ]
     },
     "execution_count": 82,
     "metadata": {},
     "output_type": "execute_result"
    }
   ],
   "source": [
    "# 1.a.iv.\n",
    "# define f_d\n",
    "\n",
    "Fd = So*(0.5*(tao_inf - tao_m[-1]))\n",
    "Fd"
   ]
  },
  {
   "cell_type": "code",
   "execution_count": 84,
   "metadata": {},
   "outputs": [],
   "source": [
    "LHS = Fd*np.exp(tao_z + tao_m[-1]) "
   ]
  },
  {
   "cell_type": "code",
   "execution_count": null,
   "metadata": {},
   "outputs": [],
   "source": [
    "for j in tao_m:\n",
    "    for i in T_m:\n",
    "    RHS = 0.5*((sigma*(i**4)*np.exp(j - tao_m[-1])) + (sigma*((i+1)**4)*np.exp((j + 1) - tao_m)))"
   ]
  }
 ],
 "metadata": {
  "kernelspec": {
   "display_name": "Python 3",
   "language": "python",
   "name": "python3"
  },
  "language_info": {
   "codemirror_mode": {
    "name": "ipython",
    "version": 3
   },
   "file_extension": ".py",
   "mimetype": "text/x-python",
   "name": "python",
   "nbconvert_exporter": "python",
   "pygments_lexer": "ipython3",
   "version": "3.6.6"
  }
 },
 "nbformat": 4,
 "nbformat_minor": 2
}
