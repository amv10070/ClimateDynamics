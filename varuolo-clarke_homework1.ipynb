{
 "cells": [
  {
   "cell_type": "code",
   "execution_count": 1,
   "metadata": {},
   "outputs": [],
   "source": [
    "import numpy as np\n",
    "import pandas as pd\n",
    "import xarray as xr\n",
    "import cartopy.crs as ccrs\n",
    "import cartopy.feature as cfeature\n",
    "from matplotlib import pyplot as plt\n",
    "import matplotlib.ticker as mticker\n",
    "from cartopy.mpl.gridliner import LONGITUDE_FORMATTER, LATITUDE_FORMATTER\n",
    "%matplotlib inline"
   ]
  },
  {
   "cell_type": "code",
   "execution_count": 2,
   "metadata": {},
   "outputs": [],
   "source": [
    "beta = 1.61e-11 # m-1 s-1\n",
    "L = 7e6 # m (Channel Width)\n",
    "k0 = 1.5e-6 # m-1 (zonal wavenumber)\n",
    "c = -2 # m s-1 (zonal phase speed)\n",
    "# will use c = -5 m s-1 for part d\n",
    "u0 = 0\n",
    "r0 = 0"
   ]
  },
  {
   "cell_type": "code",
   "execution_count": 3,
   "metadata": {},
   "outputs": [],
   "source": [
    "y = np.linspace(0, L, 16)"
   ]
  },
  {
   "cell_type": "code",
   "execution_count": 4,
   "metadata": {},
   "outputs": [
    {
     "data": {
      "text/plain": [
       "array([      0.        ,  466666.66666667,  933333.33333333,\n",
       "       1400000.        , 1866666.66666667, 2333333.33333333,\n",
       "       2800000.        , 3266666.66666667, 3733333.33333333,\n",
       "       4200000.        , 4666666.66666667, 5133333.33333333,\n",
       "       5600000.        , 6066666.66666667, 6533333.33333333,\n",
       "       7000000.        ])"
      ]
     },
     "execution_count": 4,
     "metadata": {},
     "output_type": "execute_result"
    }
   ],
   "source": [
    "y"
   ]
  },
  {
   "cell_type": "code",
   "execution_count": 13,
   "metadata": {},
   "outputs": [
    {
     "data": {
      "text/plain": [
       "466666.6666666667"
      ]
     },
     "execution_count": 13,
     "metadata": {},
     "output_type": "execute_result"
    }
   ],
   "source": [
    "dy = y[1] - y[0]\n",
    "dy"
   ]
  },
  {
   "cell_type": "markdown",
   "metadata": {},
   "source": [
    "### 2.a.ii.\n",
    "Use up-down sweep to calculate the solution throughout the grid. Plot the magnitude and phase of psi for all y_n using the radiation condition at the poleward boundary. Show that the magnitude of psi_n approaches unity (one) throughout the entire grid as the grid spacing d goes to zero, and that the magnitude of the reflection coefficient R approaches zero. (Here, just pick two small values of d and sow that the incident magnitude is close to unity and the reflection coefficient approaches zero as d is decreased.) Thus, the solution consists almost entirely (to within numerical error) of a poleward propagating wave. \n"
   ]
  },
  {
   "cell_type": "markdown",
   "metadata": {},
   "source": [
    "### First step is to solve for l everywhere"
   ]
  },
  {
   "cell_type": "code",
   "execution_count": 5,
   "metadata": {},
   "outputs": [
    {
     "data": {
      "text/plain": [
       "5.8e-12"
      ]
     },
     "execution_count": 5,
     "metadata": {},
     "output_type": "execute_result"
    }
   ],
   "source": [
    "# assume without loss of generality that u_bar == 0.\n",
    "lsq = ((beta/(u0 - c)) - k0**2)\n",
    "lsq # get real and imaginary values but there is no imaginary component so that is why it is two values (the second one\n",
    "# is zero in the debugging text file.)"
   ]
  },
  {
   "cell_type": "code",
   "execution_count": 10,
   "metadata": {},
   "outputs": [
    {
     "data": {
      "text/plain": [
       "2.408318915758459e-06"
      ]
     },
     "execution_count": 10,
     "metadata": {},
     "output_type": "execute_result"
    }
   ],
   "source": [
    "l0 = lsq**(1/2)\n",
    "l0"
   ]
  },
  {
   "cell_type": "code",
   "execution_count": null,
   "metadata": {},
   "outputs": [],
   "source": []
  },
  {
   "cell_type": "code",
   "execution_count": null,
   "metadata": {},
   "outputs": [],
   "source": []
  },
  {
   "cell_type": "markdown",
   "metadata": {},
   "source": [
    "### First get a_o and b_o using equation (18)"
   ]
  },
  {
   "cell_type": "code",
   "execution_count": 15,
   "metadata": {},
   "outputs": [
    {
     "data": {
      "text/plain": [
       "(0.2633886215268251+0.8034258014348958j)"
      ]
     },
     "execution_count": 15,
     "metadata": {},
     "output_type": "execute_result"
    }
   ],
   "source": [
    "a0 = (1 - (dy*l0*1j) - ((dy**2)*lsq)/2)**-1\n",
    "a0"
   ]
  },
  {
   "cell_type": "code",
   "execution_count": 16,
   "metadata": {},
   "outputs": [
    {
     "data": {
      "text/plain": [
       "(1.805911851337122-0.5920355461240252j)"
      ]
     },
     "execution_count": 16,
     "metadata": {},
     "output_type": "execute_result"
    }
   ],
   "source": [
    "b0 = (-2j * dy * l0) * (1 - (dy*l0*1j) - ((dy**2)*lsq)/2)**-1\n",
    "b0"
   ]
  },
  {
   "cell_type": "code",
   "execution_count": 17,
   "metadata": {},
   "outputs": [
    {
     "data": {
      "text/plain": [
       "0.8454978322628071"
      ]
     },
     "execution_count": 17,
     "metadata": {},
     "output_type": "execute_result"
    }
   ],
   "source": [
    "abs(a0)"
   ]
  },
  {
   "cell_type": "code",
   "execution_count": 18,
   "metadata": {},
   "outputs": [
    {
     "data": {
      "text/plain": [
       "1.9004798611598714"
      ]
     },
     "execution_count": 18,
     "metadata": {},
     "output_type": "execute_result"
    }
   ],
   "source": [
    "abs(b0)"
   ]
  },
  {
   "cell_type": "code",
   "execution_count": null,
   "metadata": {},
   "outputs": [],
   "source": [
    "an = "
   ]
  },
  {
   "cell_type": "code",
   "execution_count": null,
   "metadata": {},
   "outputs": [],
   "source": [
    "for z in range(0, 20):\n",
    "    T_test_calc = ((So/sigma)*(0.5*(tao_inf*np.exp(-z/H)) + 1))**(1/4)\n",
    "    T_test.append(T_test_calc)"
   ]
  },
  {
   "cell_type": "code",
   "execution_count": null,
   "metadata": {},
   "outputs": [],
   "source": [
    "an = []\n",
    "for j in range(0,16,1):\n",
    "    an_calc = (2 - ((dy**2)*lsq) - a0(j-1))**-1\n",
    "an.append(an_calc)"
   ]
  },
  {
   "cell_type": "code",
   "execution_count": 22,
   "metadata": {},
   "outputs": [
    {
     "data": {
      "text/plain": [
       "(0.5444437226596085+0.9238012401786445j)"
      ]
     },
     "execution_count": 22,
     "metadata": {},
     "output_type": "execute_result"
    }
   ],
   "source": [
    "(2 - ((dy**2)*lsq) - a0)**-1"
   ]
  },
  {
   "cell_type": "code",
   "execution_count": 37,
   "metadata": {},
   "outputs": [],
   "source": [
    "N = 16\n",
    "\n",
    "a = np.zeros((N), dtype = 'complex')\n",
    "b = np.zeros((N), dtype = 'complex')\n",
    "\n",
    "a[0] = a0\n",
    "b[0] = b0\n",
    "\n",
    "for j in np.arange(1, N, 1):\n",
    "    a[j] = (2 - ((dy**2)*lsq) - a[j-1])**-1\n",
    "    b[j] = b[j-1] * (2 - ((dy**2)*lsq) - a[j-1])**-1\n"
   ]
  },
  {
   "cell_type": "code",
   "execution_count": 38,
   "metadata": {},
   "outputs": [
    {
     "data": {
      "text/plain": [
       "array([0.26338862+0.8034258j , 0.54444372+0.92380124j,\n",
       "       0.21612274+1.0374615j , 0.38646157+0.7699022j ,\n",
       "       0.48973231+1.07596059j, 0.20279056+0.88281949j,\n",
       "       0.50167447+0.82922558j, 0.31659911+1.11613938j,\n",
       "       0.29547711+0.78468156j, 0.54456993+0.96806203j,\n",
       "       0.19742625+0.99377019j, 0.42191694+0.77723358j,\n",
       "       0.44784904+1.10512481j, 0.22151281+0.8469396j ,\n",
       "       0.52433209+0.8616574j , 0.26986751+1.09398216j])"
      ]
     },
     "execution_count": 38,
     "metadata": {},
     "output_type": "execute_result"
    }
   ],
   "source": [
    "a"
   ]
  },
  {
   "cell_type": "code",
   "execution_count": 39,
   "metadata": {},
   "outputs": [
    {
     "data": {
      "text/plain": [
       "array([ 1.80591185-0.59203555j,  1.53014054+1.34597357j,\n",
       "       -1.06569761+1.8783574j , -1.85800267-0.09456997j,\n",
       "       -0.80817037-2.04545161j,  1.64187523-1.12826683j,\n",
       "        1.7592746 +0.79546228j, -0.33086201+2.21543831j,\n",
       "       -1.83617573+0.39499j   , -1.3823009 -1.56243233j,\n",
       "        1.2797962 -1.68215459j,  1.84739474+0.28497107j,\n",
       "        0.51242536+2.16922578j, -1.72369445+0.91450462j,\n",
       "       -1.691778  -1.00572996j,  0.64369471-2.12218879j])"
      ]
     },
     "execution_count": 39,
     "metadata": {},
     "output_type": "execute_result"
    }
   ],
   "source": [
    "b"
   ]
  },
  {
   "cell_type": "code",
   "execution_count": 30,
   "metadata": {},
   "outputs": [
    {
     "data": {
      "text/plain": [
       "(0.5444437226596085+0.9238012401786445j)"
      ]
     },
     "execution_count": 30,
     "metadata": {},
     "output_type": "execute_result"
    }
   ],
   "source": [
    "a1 = (2 - ((dy**2)*lsq) - a0)**-1\n",
    "a1"
   ]
  },
  {
   "cell_type": "code",
   "execution_count": 31,
   "metadata": {
    "scrolled": true
   },
   "outputs": [
    {
     "data": {
      "text/plain": [
       "(1.5301405428763037+1.3459735712399665j)"
      ]
     },
     "execution_count": 31,
     "metadata": {},
     "output_type": "execute_result"
    }
   ],
   "source": [
    "b1 = b0 * (2 - ((dy**2)*lsq) - a0)**-1\n",
    "b1\n"
   ]
  },
  {
   "cell_type": "code",
   "execution_count": 40,
   "metadata": {},
   "outputs": [],
   "source": [
    "# l eventually becomes negative so then it becomes complex \n"
   ]
  },
  {
   "cell_type": "code",
   "execution_count": 48,
   "metadata": {},
   "outputs": [],
   "source": [
    "# now to solve for psi have to go backwards\n",
    "psi = np.zeros((N), dtype = 'complex')\n",
    "\n",
    "for j in reversed(np.arange(1, N, 1)):\n",
    "    psi[j-1] = (a[j-1]*psi[j]) + b[j-1]"
   ]
  },
  {
   "cell_type": "code",
   "execution_count": 49,
   "metadata": {},
   "outputs": [
    {
     "data": {
      "text/plain": [
       "array([ 1.47775129+0.87849514j,  1.53179427+0.91062266j,\n",
       "       -0.34898911-0.20746741j, -1.78896047-1.0635031j ,\n",
       "       -0.96927598-0.5762162j ,  1.07471177+0.63889578j,\n",
       "        1.76121914+1.0470114j ,  0.22311104+0.13263529j,\n",
       "       -1.59681109-0.94927393j, -1.39978339-0.8321447j ,\n",
       "        0.56532626+0.33607575j,  1.81636603+1.07979519j,\n",
       "        0.77313369+0.45961333j, -1.24665241-0.74111123j,\n",
       "       -1.691778  -1.00572996j,  0.        +0.j        ])"
      ]
     },
     "execution_count": 49,
     "metadata": {},
     "output_type": "execute_result"
    }
   ],
   "source": [
    "psi"
   ]
  },
  {
   "cell_type": "code",
   "execution_count": null,
   "metadata": {},
   "outputs": [],
   "source": []
  }
 ],
 "metadata": {
  "kernelspec": {
   "display_name": "Python 3",
   "language": "python",
   "name": "python3"
  },
  "language_info": {
   "codemirror_mode": {
    "name": "ipython",
    "version": 3
   },
   "file_extension": ".py",
   "mimetype": "text/x-python",
   "name": "python",
   "nbconvert_exporter": "python",
   "pygments_lexer": "ipython3",
   "version": "3.6.6"
  }
 },
 "nbformat": 4,
 "nbformat_minor": 2
}
