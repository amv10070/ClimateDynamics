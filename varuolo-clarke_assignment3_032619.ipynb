{
 "cells": [
  {
   "cell_type": "markdown",
   "metadata": {},
   "source": [
    "### This program serves to build a Radiative Convective model as part of Climate Dynamics assignment 3."
   ]
  },
  {
   "cell_type": "code",
   "execution_count": 1,
   "metadata": {},
   "outputs": [],
   "source": [
    "import numpy as np\n",
    "import pandas as pd\n",
    "import xarray as xr\n",
    "import cartopy.crs as ccrs\n",
    "import cartopy.feature as cfeature\n",
    "from matplotlib import pyplot as plt\n",
    "import matplotlib.ticker as mticker\n",
    "from cartopy.mpl.gridliner import LONGITUDE_FORMATTER, LATITUDE_FORMATTER\n",
    "%matplotlib inline"
   ]
  },
  {
   "cell_type": "code",
   "execution_count": 186,
   "metadata": {},
   "outputs": [],
   "source": [
    "# variables we have to play with:\n",
    "z = 10*1000 #m \n",
    "\n",
    "# listing of variables:\n",
    "So = 240 # top of atmosphere radiation (W m−2)\n",
    "tau_inf = 2.8\n",
    "rho_0 = 1.225 # density of air at sea level (kg m-3)\n",
    "h = 3*1000 # m \n",
    "sigma = 5.67e-8 #Wm−2K−4\n",
    "LR = 0.6 * (-9.81/1004) #K m−1\n",
    "k = 37.0 # Wm−2K−1\n",
    "Cp = 1004 # J kg−1K−1\n",
    "H = 8*1000 #m \n",
    "rho = rho_0*np.exp(-z/H)\n",
    "npts = 11"
   ]
  },
  {
   "cell_type": "code",
   "execution_count": 188,
   "metadata": {},
   "outputs": [
    {
     "data": {
      "text/plain": [
       "2.700112818627693"
      ]
     },
     "execution_count": 188,
     "metadata": {},
     "output_type": "execute_result"
    }
   ],
   "source": [
    "# step 1 \n",
    "tau_M = tau_inf*(1 - np.exp(-z/h))\n",
    "tau_M"
   ]
  },
  {
   "cell_type": "code",
   "execution_count": 199,
   "metadata": {},
   "outputs": [
    {
     "data": {
      "text/plain": [
       "11.986461764676815"
      ]
     },
     "execution_count": 199,
     "metadata": {},
     "output_type": "execute_result"
    }
   ],
   "source": [
    "# step 2 \n",
    "Fd_m = So*(0.5*(tau_inf - tau_M))\n",
    "Fd_m"
   ]
  },
  {
   "cell_type": "code",
   "execution_count": 190,
   "metadata": {},
   "outputs": [
    {
     "data": {
      "text/plain": [
       "array([0.        , 0.27001128, 0.54002256, 0.81003385, 1.08004513,\n",
       "       1.35005641, 1.62006769, 1.89007897, 2.16009025, 2.43010154,\n",
       "       2.70011282])"
      ]
     },
     "execution_count": 190,
     "metadata": {},
     "output_type": "execute_result"
    }
   ],
   "source": [
    "# step 3 \n",
    "taus = np.linspace(0, tau_M, 11)\n",
    "taus"
   ]
  },
  {
   "cell_type": "code",
   "execution_count": 194,
   "metadata": {},
   "outputs": [
    {
     "data": {
      "text/plain": [
       "array([   -0.        ,   304.21372106,   642.79376369,  1024.50535927,\n",
       "        1461.96409077,  1974.28429344,  2592.48703726,  3372.05065193,\n",
       "        4428.14265912,  6072.43845563, 10000.        ])"
      ]
     },
     "execution_count": 194,
     "metadata": {},
     "output_type": "execute_result"
    }
   ],
   "source": [
    "# step 4\n",
    "zs = -h*(np.log(1 - (taus/tau_inf)))\n",
    "zs"
   ]
  },
  {
   "cell_type": "code",
   "execution_count": 196,
   "metadata": {},
   "outputs": [
    {
     "data": {
      "text/plain": [
       "array([299.46456866, 293.99698465, 288.20611774, 282.04351264,\n",
       "       275.44822077, 268.34194792, 260.62153528, 252.14676424,\n",
       "       242.71942436, 232.04469359, 219.65271816])"
      ]
     },
     "execution_count": 196,
     "metadata": {},
     "output_type": "execute_result"
    }
   ],
   "source": [
    "# step 5\n",
    "T_RE = ((So/sigma)*(0.5*(tau_inf*np.exp(-zs/h)) + 0.5))**(1/4)\n",
    "T_RE"
   ]
  },
  {
   "cell_type": "code",
   "execution_count": 198,
   "metadata": {},
   "outputs": [
    {
     "data": {
      "text/plain": [
       "array([278.27821616, 276.49474807, 274.50980571, 272.27200247,\n",
       "       269.70737887, 266.70387617, 263.0796318 , 258.50940129,\n",
       "       252.3180093 , 242.67824331, 219.65271816])"
      ]
     },
     "execution_count": 198,
     "metadata": {},
     "output_type": "execute_result"
    }
   ],
   "source": [
    "# step 6\n",
    "T_RCE = T_RE[-1] + LR*(zs-zs[-1])\n",
    "T_RCE"
   ]
  },
  {
   "cell_type": "code",
   "execution_count": 213,
   "metadata": {},
   "outputs": [
    {
     "data": {
      "text/plain": [
       "[288.5573952849865,\n",
       " 273.13211638004265,\n",
       " 255.72306887854103,\n",
       " 235.98263519124538,\n",
       " 213.51999156373574,\n",
       " 187.9159054361237,\n",
       " 158.76216083115983,\n",
       " 125.7558105398632,\n",
       " 88.92921331749068,\n",
       " 49.30218028105156,\n",
       " 11.986461764676815]"
      ]
     },
     "execution_count": 213,
     "metadata": {},
     "output_type": "execute_result"
    }
   ],
   "source": [
    "# step 7 \n",
    "Fd = []\n",
    "for m in range(len(taus)):\n",
    "    test_sum = Fd_m*np.exp(taus[m] - taus[-1]) \n",
    "    for j in range(m,10):\n",
    "        test_sum += 0.5*(sigma*T_RCE[j]**4 * np.exp(taus[m] - taus[j]) + sigma*T_RCE[j+1]**4 * np.exp(taus[m] - taus[j+1])) * (taus[j+1] - taus[j])\n",
    "    Fd.append(test_sum)    \n",
    "#Fd.append(Fd_m)\n",
    "Fd"
   ]
  },
  {
   "cell_type": "code",
   "execution_count": 214,
   "metadata": {},
   "outputs": [
    {
     "data": {
      "text/plain": [
       "282.7793507426883"
      ]
     },
     "execution_count": 214,
     "metadata": {},
     "output_type": "execute_result"
    }
   ],
   "source": [
    "# step 8 \n",
    "T_b = (So + Fd[0] - (sigma*(T_RCE[0]**4)))/(4 * sigma * (T_RCE[0]**3) + k) + T_RCE[0]  \n",
    "T_b"
   ]
  },
  {
   "cell_type": "code",
   "execution_count": 215,
   "metadata": {},
   "outputs": [
    {
     "data": {
      "text/plain": [
       "362.0154158757774"
      ]
     },
     "execution_count": 215,
     "metadata": {},
     "output_type": "execute_result"
    }
   ],
   "source": [
    "# step 9 \n",
    "Fu_sfc = sigma*(T_RCE[0]**4) + (4*sigma*(T_RCE[0]**3))*(T_b - T_RCE[0])\n",
    "Fu_sfc"
   ]
  },
  {
   "cell_type": "code",
   "execution_count": 222,
   "metadata": {},
   "outputs": [
    {
     "data": {
      "text/plain": [
       "[362.0154158757774,\n",
       " 356.1325214503853,\n",
       " 349.48102801550993,\n",
       " 342.033119519753,\n",
       " 333.71602532794697,\n",
       " 324.39969386937776,\n",
       " 313.8706779890539,\n",
       " 301.7761785012528,\n",
       " 287.48942302510835,\n",
       " 269.69514063008455,\n",
       " 243.96354269599072]"
      ]
     },
     "execution_count": 222,
     "metadata": {},
     "output_type": "execute_result"
    }
   ],
   "source": [
    "# step 10 \n",
    "Fu = []\n",
    "#test_sum_Fu = Fu_sfc*np.exp(-taus)\n",
    "for m in reversed(range(len(taus))):\n",
    "    test_sum_Fu = Fu_sfc*np.exp(-1*taus[m])\n",
    "    for j in range(m):\n",
    "        test_sum_Fu += 0.5*(sigma*(T_RCE[j]**4) * np.exp(taus[j] - taus[m]) + sigma*(T_RCE[j+1]**4) * np.exp(taus[j+1] - taus[m])) * (taus[j+1] - taus[j])\n",
    "    Fu.append(test_sum_Fu)\n",
    "Fu = Fu[::-1]\n",
    "Fu"
   ]
  },
  {
   "cell_type": "code",
   "execution_count": 224,
   "metadata": {},
   "outputs": [
    {
     "data": {
      "text/plain": [
       "251.98646176467682"
      ]
     },
     "execution_count": 224,
     "metadata": {},
     "output_type": "execute_result"
    }
   ],
   "source": [
    "# step 11 \n",
    "Fu_RE = So*(0.5*(tau_inf - taus[-1]) + 1)\n",
    "Fu_RE"
   ]
  },
  {
   "cell_type": "code",
   "execution_count": 225,
   "metadata": {},
   "outputs": [
    {
     "data": {
      "text/plain": [
       "-8.022919068686093"
      ]
     },
     "execution_count": 225,
     "metadata": {},
     "output_type": "execute_result"
    }
   ],
   "source": [
    "# step 12 - check for error\n",
    "error = Fu[-1] - Fu_RE\n",
    "error"
   ]
  },
  {
   "cell_type": "code",
   "execution_count": 255,
   "metadata": {},
   "outputs": [],
   "source": [
    "def get_error2(x):\n",
    "    tau_M = tau_inf*(1 - np.exp(-x/h))\n",
    "    Fd_m = So*(0.5*(tau_inf - tau_M))\n",
    "    taus = np.linspace(0, tau_M, 101)\n",
    "    zs = -h*(np.log(1 - (taus/tau_inf)))\n",
    "    T_RE = ((So/sigma)*(0.5*(tau_inf*np.exp(-zs/h)) + 0.5))**(1/4)\n",
    "    T_RCE = T_RE[-1] + LR*(zs-zs[-1])\n",
    "    Fd = []\n",
    "    for m in range(len(taus)):\n",
    "        test_sum = Fd_m*np.exp(taus[m] - taus[-1]) \n",
    "        for j in range(m,100):\n",
    "            test_sum += 0.5*(sigma*T_RCE[j]**4 * np.exp(taus[m] - taus[j]) + sigma*T_RCE[j+1]**4 * np.exp(taus[m] - taus[j+1])) * (taus[j+1] - taus[j])\n",
    "        Fd.append(test_sum)\n",
    "    T_b = (So + Fd[0] - (sigma*(T_RCE[0]**4)))/(4 * sigma * (T_RCE[0]**3) + k) + T_RCE[0]  \n",
    "    Fu_sfc = sigma*(T_RCE[0]**4) + (4*sigma*(T_RCE[0]**3))*(T_b - T_RCE[0])\n",
    "    Fu = []\n",
    "    for m in reversed(range(len(taus))):\n",
    "        test_sum_Fu = Fu_sfc*np.exp(-1*taus[m])\n",
    "        for j in range(m):\n",
    "            test_sum_Fu += 0.5*(sigma*(T_RCE[j]**4) * np.exp(taus[j] - taus[m]) + sigma*(T_RCE[j+1]**4) * np.exp(taus[j+1] - taus[m])) * (taus[j+1] - taus[j])\n",
    "        Fu.append(test_sum_Fu)\n",
    "    Fu = Fu[::-1]\n",
    "    Fu_RE = So*(0.5*(tau_inf - taus[-1]) + 1)\n",
    "    error = Fu[-1] - Fu_RE\n",
    "    \n",
    "    #return(error)\n",
    "    return(error,taus,zs,T_RE,T_RCE,Fd,Fu)"
   ]
  },
  {
   "cell_type": "code",
   "execution_count": null,
   "metadata": {},
   "outputs": [],
   "source": [
    "get_error2(10000)  "
   ]
  },
  {
   "cell_type": "code",
   "execution_count": 256,
   "metadata": {},
   "outputs": [
    {
     "name": "stdout",
     "output_type": "stream",
     "text": [
      "The value of root is :  10388.4445\n"
     ]
    }
   ],
   "source": [
    "a = 8000\n",
    "b = 13000\n",
    "\n",
    "c = a \n",
    "while ((b-a) >= 0.0001): \n",
    "\n",
    "    # Find middle point \n",
    "    c = (a+b)/2\n",
    "\n",
    "    # Check if middle point is root \n",
    "    if (get_error2(c)[0] == 0.0): \n",
    "        break\n",
    "\n",
    "    # Decide the side to repeat the steps \n",
    "    if (get_error2(c)[0]*get_error2(a)[0] < 0): \n",
    "        b = c \n",
    "    else: \n",
    "        a = c \n",
    "\n",
    "print(\"The value of root is : \",\"%.4f\"%c) \n",
    "error,taus,zs,T_RE,T_RCE,Fd,Fu = get_error2(c)"
   ]
  },
  {
   "cell_type": "code",
   "execution_count": 232,
   "metadata": {},
   "outputs": [
    {
     "data": {
      "text/plain": [
       "11"
      ]
     },
     "execution_count": 232,
     "metadata": {},
     "output_type": "execute_result"
    }
   ],
   "source": [
    "len(zs)"
   ]
  },
  {
   "cell_type": "code",
   "execution_count": null,
   "metadata": {},
   "outputs": [],
   "source": []
  },
  {
   "cell_type": "code",
   "execution_count": 253,
   "metadata": {},
   "outputs": [],
   "source": [
    "new_zs = np.linspace(10388, 16000, 100)\n",
    "new_tau = tau_inf*(1 - np.exp(-new_zs/h))\n",
    "Fu_new_zs = So*(0.5*(tau_inf - new_tau) + 1)\n",
    "Fd_new_zs = So*(0.5*(tau_inf - new_tau))\n",
    "T_m_new_zs = ((So/sigma)*(0.5*(tau_inf*np.exp(-new_zs/h)) + 0.5))**(1/4)\n",
    "T_m_adj_new_zs = T_m_new_zs[-1] + LR*(new_zs-new_zs[-1])"
   ]
  },
  {
   "cell_type": "code",
   "execution_count": 254,
   "metadata": {},
   "outputs": [
    {
     "data": {
      "text/plain": [
       "100"
      ]
     },
     "execution_count": 254,
     "metadata": {},
     "output_type": "execute_result"
    }
   ],
   "source": [
    "len(T_m_new_zs)"
   ]
  },
  {
   "cell_type": "code",
   "execution_count": 257,
   "metadata": {},
   "outputs": [],
   "source": [
    "# now we have to append our Fd_new_zs and Fu_new_zs to our Fd_int and Fu_int respectively. \n",
    "RCE_zs = np.concatenate([zs, new_zs])\n",
    "Fu_zs = np.concatenate([Fu, Fu_new_zs])\n",
    "Fd_zs = np.concatenate([Fd, Fd_new_zs])\n",
    "T_m_new_zs_test = np.concatenate([T_RE, T_m_new_zs ])\n",
    "T_m_adj_new_zs = np.concatenate([T_RCE, T_m_new_zs ])"
   ]
  },
  {
   "cell_type": "code",
   "execution_count": 258,
   "metadata": {},
   "outputs": [
    {
     "data": {
      "text/plain": [
       "201"
      ]
     },
     "execution_count": 258,
     "metadata": {},
     "output_type": "execute_result"
    }
   ],
   "source": [
    "len(T_m_adj_new_zs)"
   ]
  },
  {
   "cell_type": "markdown",
   "metadata": {},
   "source": [
    "Okay, so Fd_zs and Fu_zs are the RCE solutions below the BL with the RE solution above the BL.\n",
    "Now need to calculate RE for full atmospheric profile."
   ]
  },
  {
   "cell_type": "code",
   "execution_count": 261,
   "metadata": {},
   "outputs": [],
   "source": [
    "# RE profile\n",
    "RE_zs = np.linspace(0, 16000, 201)\n",
    "RE_tau = tau_inf*(1 - np.exp(-RE_zs/h))\n",
    "Fu_RE_zs = So*(0.5*(tau_inf - RE_tau) + 1)\n",
    "Fd_RE_zs = So*(0.5*(tau_inf - RE_tau))\n",
    "T_m_RE_zs = ((So/sigma)*(0.5*(tau_inf*np.exp(-RE_zs/h)) + 0.5))**(1/4)\n",
    "T_m_adj_RE_zs = T_m_RE_zs[-1] + LR*(RE_zs-RE_zs[-1])"
   ]
  },
  {
   "cell_type": "code",
   "execution_count": 262,
   "metadata": {},
   "outputs": [
    {
     "data": {
      "text/plain": [
       "201"
      ]
     },
     "execution_count": 262,
     "metadata": {},
     "output_type": "execute_result"
    }
   ],
   "source": [
    "len (Fd_RE_zs)"
   ]
  },
  {
   "cell_type": "code",
   "execution_count": 263,
   "metadata": {},
   "outputs": [
    {
     "data": {
      "text/plain": [
       "10.666533823030804"
      ]
     },
     "execution_count": 263,
     "metadata": {},
     "output_type": "execute_result"
    }
   ],
   "source": [
    "Fd_int_plot[-1]"
   ]
  },
  {
   "cell_type": "code",
   "execution_count": 264,
   "metadata": {},
   "outputs": [
    {
     "data": {
      "text/plain": [
       "201"
      ]
     },
     "execution_count": 264,
     "metadata": {},
     "output_type": "execute_result"
    }
   ],
   "source": [
    "len(RCE_zs)"
   ]
  },
  {
   "cell_type": "code",
   "execution_count": 265,
   "metadata": {},
   "outputs": [
    {
     "data": {
      "text/plain": [
       "16000.0"
      ]
     },
     "execution_count": 265,
     "metadata": {},
     "output_type": "execute_result"
    }
   ],
   "source": [
    "RCE_zs.max()"
   ]
  },
  {
   "cell_type": "code",
   "execution_count": 266,
   "metadata": {},
   "outputs": [],
   "source": [
    "## Q_R"
   ]
  },
  {
   "cell_type": "code",
   "execution_count": 295,
   "metadata": {},
   "outputs": [],
   "source": [
    "rho = rho_0*np.exp(-zs/H)"
   ]
  },
  {
   "cell_type": "code",
   "execution_count": 274,
   "metadata": {},
   "outputs": [],
   "source": [
    "#Q_R = []\n",
    "#for j in range(0, len(RCE_zs)-1):\n",
    "#    testing = ((Fd_int_plot[j] - Fu_int_plot[j])*(Fd_int_plot[j-1] - Fu_int_plot[j-1]))\n",
    "    #test_sum_Fu_test += 0.5*(sigma*(T_m_adj[j]**4) * np.exp(tau[j] - tau[m]) + sigma*(T_m_adj[j-1]**4) * np.exp(tau[j-1] - tau[m])) * (tau[j] - tau[j-1])\n",
    "#Fu_int.append(test_sum_Fu_test+test_sum_Fu[m])"
   ]
  },
  {
   "cell_type": "code",
   "execution_count": 298,
   "metadata": {},
   "outputs": [
    {
     "data": {
      "text/plain": [
       "201"
      ]
     },
     "execution_count": 298,
     "metadata": {},
     "output_type": "execute_result"
    }
   ],
   "source": [
    "#QR_RCE = (86400/(rho_z*Cp))*np.gradient(RCE_Fd-RCE_Fu,RCE_zs*1000)\n",
    "#QR = (86400/(rho*Cp))*np.gradient(np.array(Fd_zs)-np.array(Fu_zs), RCE_zs)\n",
    "rho_RE = rho_0*np.exp(-RE_zs/H)\n",
    "QR_RE = (86400/(rho_RE*Cp))*np.gradient(np.array(Fd_RE_zs)-np.array(Fu_RE_zs), RE_zs)\n",
    "len(QR_RE)"
   ]
  },
  {
   "cell_type": "code",
   "execution_count": 297,
   "metadata": {},
   "outputs": [
    {
     "data": {
      "text/plain": [
       "101"
      ]
     },
     "execution_count": 297,
     "metadata": {},
     "output_type": "execute_result"
    }
   ],
   "source": [
    "rho_test = rho_0*np.exp(-zs/H)\n",
    "QR_test = (86400/(rho_test*Cp))*np.gradient(np.array(Fd)-np.array(Fu), zs) \n",
    "len(QR_test)"
   ]
  },
  {
   "cell_type": "code",
   "execution_count": 303,
   "metadata": {},
   "outputs": [
    {
     "data": {
      "text/plain": [
       "100"
      ]
     },
     "execution_count": 303,
     "metadata": {},
     "output_type": "execute_result"
    }
   ],
   "source": [
    "rho_RCE_test = rho_0*np.exp(-new_zs/H)\n",
    "QR_RCE_test = (86400/(rho_RCE_test*Cp))*np.gradient(np.array(Fd_new_zs)-np.array(Fu_new_zs), new_zs) \n",
    "len(QR_RCE_test)"
   ]
  },
  {
   "cell_type": "code",
   "execution_count": null,
   "metadata": {},
   "outputs": [],
   "source": [
    "rho"
   ]
  },
  {
   "cell_type": "code",
   "execution_count": 305,
   "metadata": {},
   "outputs": [
    {
     "data": {
      "text/plain": [
       "100"
      ]
     },
     "execution_count": 305,
     "metadata": {},
     "output_type": "execute_result"
    }
   ],
   "source": [
    "len(QR_RE_test)"
   ]
  },
  {
   "cell_type": "code",
   "execution_count": 306,
   "metadata": {},
   "outputs": [],
   "source": [
    "# concatenate Q_test and Q_RE_test\n",
    "QR = np.concatenate([QR_test, QR_RCE_test])"
   ]
  },
  {
   "cell_type": "code",
   "execution_count": 300,
   "metadata": {},
   "outputs": [
    {
     "data": {
      "text/plain": [
       "201"
      ]
     },
     "execution_count": 300,
     "metadata": {},
     "output_type": "execute_result"
    }
   ],
   "source": [
    "len(QR_RE)"
   ]
  },
  {
   "cell_type": "code",
   "execution_count": 309,
   "metadata": {},
   "outputs": [
    {
     "data": {
      "image/png": "[encoded data removed]",
      "text/plain": [
       "<Figure size 720x432 with 4 Axes>"
      ]
     },
     "metadata": {
      "needs_background": "light"
     },
     "output_type": "display_data"
    }
   ],
   "source": [
    "fig, ax = plt.subplots(ncols = 4, figsize = (10,6))\n",
    "\n",
    "ax[0].plot(T_m_RE_zs, RE_zs/1000, 'r', T_m_adj_new_zs, RCE_zs/1000, 'b')\n",
    "#plt.plot(T_surf, tao_values)\n",
    "ax[0].set_title('T', fontsize = 16)\n",
    "ax[0].set_xlabel('Temp (K)', fontsize = 14)\n",
    "ax[0].set_ylabel('Altitude (km)', fontsize = 14);\n",
    "ax[0].grid()\n",
    "#ax.set_ylim(0, 20);\n",
    "#ax.set_xlim(150, 350)\n",
    "#plt.axhline(y = pi_B_sfc, color = 'k', linewidth = 1.5, linestyle = '--')\n",
    "#plt.axhline(y = pi_B_above, color = 'k', linewidth = 1.5, linestyle = ':')\n",
    "#plt.axhline(y = So, color = 'k', linewidth = 1.5, linestyle = '-.')\n",
    "ax[0].legend(['RE', 'RCE'], fontsize = 14)\n",
    "\n",
    "ax[1].plot(Fd_RE_zs, RE_zs/1000, 'r', Fd_zs, RCE_zs/1000, 'b')\n",
    "#plt.plot(T_surf, tao_values)\n",
    "ax[1].set_title('Fd', fontsize = 16)\n",
    "ax[1].set_xlabel('Energy (Wm-2)', fontsize = 14)\n",
    "ax[1].set_ylabel(' ', fontsize = 14);\n",
    "ax[1].grid();\n",
    "ax[1].set_yticklabels([]);\n",
    "#ax.set_ylim(0, 20);\n",
    "#ax.set_xlim(150, 350)\n",
    "#plt.axhline(y = pi_B_sfc, color = 'k', linewidth = 1.5, linestyle = '--')\n",
    "#plt.axhline(y = pi_B_above, color = 'k', linewidth = 1.5, linestyle = ':')\n",
    "#plt.axhline(y = So, color = 'k', linewidth = 1.5, linestyle = '-.')\n",
    "#ax[1].legend(['Fd', 'Fu'], fontsize = 14)\n",
    "\n",
    "ax[2].plot(Fu_RE_zs, RE_zs/1000, 'r', Fu_zs, RCE_zs/1000, 'b')\n",
    "#plt.plot(T_surf, tao_values)\n",
    "ax[2].set_title('Fu', fontsize = 16)\n",
    "ax[2].set_xlabel('Energy (Wm-2)', fontsize = 14)\n",
    "ax[2].set_ylabel(' ', fontsize = 14);\n",
    "ax[2].grid()\n",
    "ax[2].set_yticklabels([]);\n",
    "#ax.set_ylim(0, 20);\n",
    "#ax.set_xlim(150, 350)\n",
    "#plt.axhline(y = pi_B_sfc, color = 'k', linewidth = 1.5, linestyle = '--')\n",
    "#plt.axhline(y = pi_B_above, color = 'k', linewidth = 1.5, linestyle = ':')\n",
    "#plt.axhline(y = So, color = 'k', linewidth = 1.5, linestyle = '-.')\n",
    "#ax[2].legend(['Fu'], fontsize = 14)\n",
    "\n",
    "ax[3].plot(QR_RE, RE_zs/1000, 'r', QR, RCE_zs/1000, 'b')\n",
    "#plt.plot(T_surf, tao_values)\n",
    "ax[3].set_title('Qr', fontsize = 16)\n",
    "ax[3].set_xlabel('Temp (K/day)', fontsize = 14)\n",
    "ax[3].set_ylabel(' ', fontsize = 14);\n",
    "ax[3].grid()\n",
    "ax[3].set_yticklabels([]);\n",
    "\n",
    "#fig.savefig('climate_dynamics_fig_1bi.png')"
   ]
  },
  {
   "cell_type": "code",
   "execution_count": 308,
   "metadata": {},
   "outputs": [
    {
     "data": {
      "text/plain": [
       "-2.3157287953750214"
      ]
     },
     "execution_count": 308,
     "metadata": {},
     "output_type": "execute_result"
    }
   ],
   "source": [
    "# what is the radiative cooling averaged between the surface and z_T for the RCE solution?\n",
    "np.mean(QR_test)"
   ]
  },
  {
   "cell_type": "markdown",
   "metadata": {},
   "source": [
    "For the radiative convective solution, the radiative cooling averaged between the surface and the top of the mixed layer is *2.32 K/day*"
   ]
  },
  {
   "cell_type": "code",
   "execution_count": 315,
   "metadata": {},
   "outputs": [
    {
     "data": {
      "text/plain": [
       "3.378219548054083e-16"
      ]
     },
     "execution_count": 315,
     "metadata": {},
     "output_type": "execute_result"
    }
   ],
   "source": [
    "# what about for the RE solution?\n",
    "np.mean(QR_RE[RCE_zs < 10388.4])"
   ]
  },
  {
   "cell_type": "markdown",
   "metadata": {},
   "source": [
    "For the radiative"
   ]
  },
  {
   "cell_type": "code",
   "execution_count": null,
   "metadata": {},
   "outputs": [],
   "source": []
  },
  {
   "cell_type": "code",
   "execution_count": null,
   "metadata": {},
   "outputs": [],
   "source": []
  },
  {
   "cell_type": "code",
   "execution_count": 7,
   "metadata": {},
   "outputs": [
    {
     "data": {
      "text/plain": [
       "2.700112818627693"
      ]
     },
     "execution_count": 7,
     "metadata": {},
     "output_type": "execute_result"
    }
   ],
   "source": [
    "# 1.a.i\n",
    "# z = 10*1000 # in m THIS IS WHERE WE WANT TO LOOP\n",
    "tau_M = tau_inf*(1 - np.exp(-z/h))\n",
    "tau_M"
   ]
  },
  {
   "cell_type": "code",
   "execution_count": 9,
   "metadata": {},
   "outputs": [
    {
     "data": {
      "text/plain": [
       "array([0.        , 0.27001128, 0.54002256, 0.81003385, 1.08004513,\n",
       "       1.35005641, 1.62006769, 1.89007897, 2.16009025, 2.43010154,\n",
       "       2.70011282])"
      ]
     },
     "execution_count": 9,
     "metadata": {},
     "output_type": "execute_result"
    }
   ],
   "source": [
    "# 1.a.ii\n",
    "tau = np.linspace(0,tau_M, npts)\n",
    "tau"
   ]
  },
  {
   "cell_type": "code",
   "execution_count": 10,
   "metadata": {},
   "outputs": [
    {
     "data": {
      "text/plain": [
       "[-0.0,\n",
       " 304.21372105790374,\n",
       " 642.7937636884712,\n",
       " 1024.5053592681377,\n",
       " 1461.964090770453,\n",
       " 1974.2842934414464,\n",
       " 2592.4870372588625,\n",
       " 3372.0506519342234,\n",
       " 4428.142659116738,\n",
       " 6072.438455625237,\n",
       " 10000.0]"
      ]
     },
     "execution_count": 10,
     "metadata": {},
     "output_type": "execute_result"
    }
   ],
   "source": [
    "z_m = []\n",
    "for t in np.linspace(0, tau_M, len(tau)):\n",
    "    z_calc_test = -h*(np.log(1 - (t/tau_inf)))\n",
    "    z_m.append(z_calc_test)\n",
    "z_m"
   ]
  },
  {
   "cell_type": "code",
   "execution_count": 11,
   "metadata": {},
   "outputs": [
    {
     "data": {
      "text/plain": [
       "[299.46456866315015,\n",
       " 293.99698464746103,\n",
       " 288.2061177367317,\n",
       " 282.04351264217644,\n",
       " 275.4482207719673,\n",
       " 268.3419479157948,\n",
       " 260.62153528098753,\n",
       " 252.1467642407374,\n",
       " 242.7194243561398,\n",
       " 232.04469359420852,\n",
       " 219.65271815609287]"
      ]
     },
     "execution_count": 11,
     "metadata": {},
     "output_type": "execute_result"
    }
   ],
   "source": [
    "# 1.a.iii\n",
    "T_m = []\n",
    "for l in (z_m):\n",
    "    T = ((So/sigma)*(0.5*(tau_inf*np.exp(-l/h)) + 0.5))**(1/4)\n",
    "    T_m.append(T)\n",
    "T_m"
   ]
  },
  {
   "cell_type": "code",
   "execution_count": 12,
   "metadata": {},
   "outputs": [
    {
     "data": {
      "text/plain": [
       "array([278.27821616, 276.49474807, 274.50980571, 272.27200247,\n",
       "       269.70737887, 266.70387617, 263.0796318 , 258.50940129,\n",
       "       252.3180093 , 242.67824331, 219.65271816])"
      ]
     },
     "execution_count": 12,
     "metadata": {},
     "output_type": "execute_result"
    }
   ],
   "source": [
    "T_m_adj = T_m[-1] + LR*(z_m-z_m[-1]) # calculated adjusted temperature with dynamically relaxed lapse rate T\n",
    "T_m_adj"
   ]
  },
  {
   "cell_type": "code",
   "execution_count": 13,
   "metadata": {},
   "outputs": [
    {
     "data": {
      "text/plain": [
       "11.986461764676815"
      ]
     },
     "execution_count": 13,
     "metadata": {},
     "output_type": "execute_result"
    }
   ],
   "source": [
    "# 1.a.iv.\n",
    "# define f_d\n",
    "Fd = So*(0.5*(tau_inf - tau_M))\n",
    "Fd"
   ]
  },
  {
   "cell_type": "code",
   "execution_count": 27,
   "metadata": {},
   "outputs": [],
   "source": [
    "# 1.a.iv.\n",
    "Fd_int = []\n",
    "for m in range(0, len(tau)-1,1):\n",
    "    test_sum = Fd*np.exp(tau[m] - tau[-1]) \n",
    "    for j in range(m,10):\n",
    "        test_sum += 0.5*(sigma*T_m_adj[j]**4 * np.exp(tau[m] - tau[j]) + sigma*T_m_adj[j+1]**4 * np.exp(tau[m] - tau[j+1])) * (tau[j+1] - tau[j])\n",
    "    Fd_int.append(test_sum)    \n",
    "Fd_int.append(Fd)"
   ]
  },
  {
   "cell_type": "code",
   "execution_count": 28,
   "metadata": {},
   "outputs": [
    {
     "data": {
      "text/plain": [
       "[288.5573952849865,\n",
       " 273.13211638004265,\n",
       " 255.72306887854103,\n",
       " 235.98263519124538,\n",
       " 213.51999156373574,\n",
       " 187.9159054361237,\n",
       " 158.76216083115983,\n",
       " 125.7558105398632,\n",
       " 88.92921331749068,\n",
       " 49.30218028105156,\n",
       " 11.986461764676815]"
      ]
     },
     "execution_count": 28,
     "metadata": {},
     "output_type": "execute_result"
    }
   ],
   "source": [
    "Fd_int"
   ]
  },
  {
   "cell_type": "code",
   "execution_count": 16,
   "metadata": {},
   "outputs": [
    {
     "data": {
      "text/plain": [
       "282.7793507426883"
      ]
     },
     "execution_count": 16,
     "metadata": {},
     "output_type": "execute_result"
    }
   ],
   "source": [
    "T_b = (So + Fd_int[0] - (sigma*(T_m_adj[0]**4)))/(4 * sigma * (T_m_adj[0]**3) + k) + T_m_adj[0]  \n",
    "T_b"
   ]
  },
  {
   "cell_type": "code",
   "execution_count": 17,
   "metadata": {},
   "outputs": [
    {
     "data": {
      "text/plain": [
       "362.0154158757774"
      ]
     },
     "execution_count": 17,
     "metadata": {},
     "output_type": "execute_result"
    }
   ],
   "source": [
    "# calc upward longwave flux at the surface \n",
    "Fu_sfc = sigma*(T_m_adj[0]**4) + (4*sigma*(T_m_adj[0]**3))*(T_b - T_m_adj[0])\n",
    "Fu_sfc"
   ]
  },
  {
   "cell_type": "code",
   "execution_count": 18,
   "metadata": {},
   "outputs": [
    {
     "data": {
      "text/plain": [
       "[362.0154158757774,\n",
       " 356.1325214503853,\n",
       " 349.48102801550993,\n",
       " 342.033119519753,\n",
       " 333.7160253279469,\n",
       " 324.39969386937776,\n",
       " 313.8706779890539,\n",
       " 301.7761785012528,\n",
       " 287.48942302510835,\n",
       " 269.69514063008455,\n",
       " 243.96354269599075]"
      ]
     },
     "execution_count": 18,
     "metadata": {},
     "output_type": "execute_result"
    }
   ],
   "source": [
    "Fu_int = []\n",
    "test_sum_Fu = Fu_sfc*np.exp(-tau)\n",
    "for m in range(len(tau)-1, 0, -1):\n",
    "    test_sum_Fu_test = 0\n",
    "    for j in range(1,m+1):\n",
    "        test_sum_Fu_test += 0.5*(sigma*(T_m_adj[j]**4) * np.exp(tau[j] - tau[m]) + sigma*(T_m_adj[j-1]**4) * np.exp(tau[j-1] - tau[m])) * (tau[j] - tau[j-1])\n",
    "    Fu_int.append(test_sum_Fu_test+test_sum_Fu[m])\n",
    "\n",
    "Fu_int.append(Fu_sfc)\n",
    "Fu_int = Fu_int[::-1]\n",
    "Fu_int"
   ]
  },
  {
   "cell_type": "code",
   "execution_count": 19,
   "metadata": {},
   "outputs": [
    {
     "data": {
      "text/plain": [
       "251.98646176467682"
      ]
     },
     "execution_count": 19,
     "metadata": {},
     "output_type": "execute_result"
    }
   ],
   "source": [
    "Fu_RE = So*(0.5*(tau_inf - tau[-1]) + 1)\n",
    "Fu_RE"
   ]
  },
  {
   "cell_type": "code",
   "execution_count": 20,
   "metadata": {},
   "outputs": [
    {
     "data": {
      "text/plain": [
       "-8.022919068686065"
      ]
     },
     "execution_count": 20,
     "metadata": {},
     "output_type": "execute_result"
    }
   ],
   "source": [
    "Fu_error = Fu_int[-1] - Fu_RE\n",
    "Fu_error"
   ]
  },
  {
   "cell_type": "code",
   "execution_count": null,
   "metadata": {},
   "outputs": [],
   "source": []
  }
 ],
 "metadata": {
  "kernelspec": {
   "display_name": "Python 3",
   "language": "python",
   "name": "python3"
  },
  "language_info": {
   "codemirror_mode": {
    "name": "ipython",
    "version": 3
   },
   "file_extension": ".py",
   "mimetype": "text/x-python",
   "name": "python",
   "nbconvert_exporter": "python",
   "pygments_lexer": "ipython3",
   "version": "3.6.6"
  }
 },
 "nbformat": 4,
 "nbformat_minor": 2
}
