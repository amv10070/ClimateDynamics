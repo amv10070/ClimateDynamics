{
 "cells": [
  {
   "cell_type": "markdown",
   "metadata": {},
   "source": [
    "### This program serves to build a Radiative Convective model as part of Climate Dynamics assignment 3."
   ]
  },
  {
   "cell_type": "code",
   "execution_count": 2,
   "metadata": {},
   "outputs": [],
   "source": [
    "import numpy as np\n",
    "import pandas as pd\n",
    "import xarray as xr\n",
    "import cartopy.crs as ccrs\n",
    "import cartopy.feature as cfeature\n",
    "from matplotlib import pyplot as plt\n",
    "import matplotlib.ticker as mticker\n",
    "from cartopy.mpl.gridliner import LONGITUDE_FORMATTER, LATITUDE_FORMATTER\n",
    "%matplotlib inline"
   ]
  },
  {
   "cell_type": "code",
   "execution_count": 74,
   "metadata": {},
   "outputs": [],
   "source": [
    "# variables we have to play with:\n",
    "z = 10*1000 #m \n",
    "\n",
    "# listing of variables:\n",
    "So = 240 # top of atmosphere radiation (W m−2)\n",
    "tau_inf = 2.8\n",
    "rho_0 = 1.225 # density of air at sea level (kg m-3)\n",
    "h = 3*1000 # m \n",
    "sigma = 5.67e-8 #Wm−2K−4\n",
    "LR = 0.6 * (-9.81/1004) #K m−1\n",
    "k = 37.0 # Wm−2K−1\n",
    "Cp = 1004 # J kg−1K−1\n",
    "H = 8*1000 #m \n",
    "rho = rho_0*np.exp(-z/H)\n",
    "npts = 11\n",
    "g = 9.81 # m/s-2 "
   ]
  },
  {
   "cell_type": "code",
   "execution_count": 4,
   "metadata": {},
   "outputs": [
    {
     "data": {
      "text/plain": [
       "2.700112818627693"
      ]
     },
     "execution_count": 4,
     "metadata": {},
     "output_type": "execute_result"
    }
   ],
   "source": [
    "# step 1 \n",
    "tau_M = tau_inf*(1 - np.exp(-z/h))\n",
    "tau_M"
   ]
  },
  {
   "cell_type": "code",
   "execution_count": 199,
   "metadata": {},
   "outputs": [
    {
     "data": {
      "text/plain": [
       "11.986461764676815"
      ]
     },
     "execution_count": 199,
     "metadata": {},
     "output_type": "execute_result"
    }
   ],
   "source": [
    "# step 2 \n",
    "Fd_m = So*(0.5*(tau_inf - tau_M))\n",
    "Fd_m"
   ]
  },
  {
   "cell_type": "code",
   "execution_count": 190,
   "metadata": {},
   "outputs": [
    {
     "data": {
      "text/plain": [
       "array([0.        , 0.27001128, 0.54002256, 0.81003385, 1.08004513,\n",
       "       1.35005641, 1.62006769, 1.89007897, 2.16009025, 2.43010154,\n",
       "       2.70011282])"
      ]
     },
     "execution_count": 190,
     "metadata": {},
     "output_type": "execute_result"
    }
   ],
   "source": [
    "# step 3 \n",
    "taus = np.linspace(0, tau_M, 11)\n",
    "taus"
   ]
  },
  {
   "cell_type": "code",
   "execution_count": 194,
   "metadata": {},
   "outputs": [
    {
     "data": {
      "text/plain": [
       "array([   -0.        ,   304.21372106,   642.79376369,  1024.50535927,\n",
       "        1461.96409077,  1974.28429344,  2592.48703726,  3372.05065193,\n",
       "        4428.14265912,  6072.43845563, 10000.        ])"
      ]
     },
     "execution_count": 194,
     "metadata": {},
     "output_type": "execute_result"
    }
   ],
   "source": [
    "# step 4\n",
    "zs = -h*(np.log(1 - (taus/tau_inf)))\n",
    "zs"
   ]
  },
  {
   "cell_type": "code",
   "execution_count": 196,
   "metadata": {},
   "outputs": [
    {
     "data": {
      "text/plain": [
       "array([299.46456866, 293.99698465, 288.20611774, 282.04351264,\n",
       "       275.44822077, 268.34194792, 260.62153528, 252.14676424,\n",
       "       242.71942436, 232.04469359, 219.65271816])"
      ]
     },
     "execution_count": 196,
     "metadata": {},
     "output_type": "execute_result"
    }
   ],
   "source": [
    "# step 5\n",
    "T_RE = ((So/sigma)*(0.5*(tau_inf*np.exp(-zs/h)) + 0.5))**(1/4)\n",
    "T_RE"
   ]
  },
  {
   "cell_type": "code",
   "execution_count": 198,
   "metadata": {},
   "outputs": [
    {
     "data": {
      "text/plain": [
       "array([278.27821616, 276.49474807, 274.50980571, 272.27200247,\n",
       "       269.70737887, 266.70387617, 263.0796318 , 258.50940129,\n",
       "       252.3180093 , 242.67824331, 219.65271816])"
      ]
     },
     "execution_count": 198,
     "metadata": {},
     "output_type": "execute_result"
    }
   ],
   "source": [
    "# step 6\n",
    "T_RCE = T_RE[-1] + LR*(zs-zs[-1])\n",
    "T_RCE"
   ]
  },
  {
   "cell_type": "code",
   "execution_count": 213,
   "metadata": {},
   "outputs": [
    {
     "data": {
      "text/plain": [
       "[288.5573952849865,\n",
       " 273.13211638004265,\n",
       " 255.72306887854103,\n",
       " 235.98263519124538,\n",
       " 213.51999156373574,\n",
       " 187.9159054361237,\n",
       " 158.76216083115983,\n",
       " 125.7558105398632,\n",
       " 88.92921331749068,\n",
       " 49.30218028105156,\n",
       " 11.986461764676815]"
      ]
     },
     "execution_count": 213,
     "metadata": {},
     "output_type": "execute_result"
    }
   ],
   "source": [
    "# step 7 \n",
    "Fd = []\n",
    "for m in range(len(taus)):\n",
    "    test_sum = Fd_m*np.exp(taus[m] - taus[-1]) \n",
    "    for j in range(m,10):\n",
    "        test_sum += 0.5*(sigma*T_RCE[j]**4 * np.exp(taus[m] - taus[j]) + sigma*T_RCE[j+1]**4 * np.exp(taus[m] - taus[j+1])) * (taus[j+1] - taus[j])\n",
    "    Fd.append(test_sum)    \n",
    "#Fd.append(Fd_m)\n",
    "Fd"
   ]
  },
  {
   "cell_type": "code",
   "execution_count": 214,
   "metadata": {},
   "outputs": [
    {
     "data": {
      "text/plain": [
       "282.7793507426883"
      ]
     },
     "execution_count": 214,
     "metadata": {},
     "output_type": "execute_result"
    }
   ],
   "source": [
    "# step 8 \n",
    "T_b = (So + Fd[0] - (sigma*(T_RCE[0]**4)))/(4 * sigma * (T_RCE[0]**3) + k) + T_RCE[0]  \n",
    "T_b"
   ]
  },
  {
   "cell_type": "code",
   "execution_count": 215,
   "metadata": {},
   "outputs": [
    {
     "data": {
      "text/plain": [
       "362.0154158757774"
      ]
     },
     "execution_count": 215,
     "metadata": {},
     "output_type": "execute_result"
    }
   ],
   "source": [
    "# step 9 \n",
    "Fu_sfc = sigma*(T_RCE[0]**4) + (4*sigma*(T_RCE[0]**3))*(T_b - T_RCE[0])\n",
    "Fu_sfc"
   ]
  },
  {
   "cell_type": "code",
   "execution_count": 222,
   "metadata": {},
   "outputs": [
    {
     "data": {
      "text/plain": [
       "[362.0154158757774,\n",
       " 356.1325214503853,\n",
       " 349.48102801550993,\n",
       " 342.033119519753,\n",
       " 333.71602532794697,\n",
       " 324.39969386937776,\n",
       " 313.8706779890539,\n",
       " 301.7761785012528,\n",
       " 287.48942302510835,\n",
       " 269.69514063008455,\n",
       " 243.96354269599072]"
      ]
     },
     "execution_count": 222,
     "metadata": {},
     "output_type": "execute_result"
    }
   ],
   "source": [
    "# step 10 \n",
    "Fu = []\n",
    "#test_sum_Fu = Fu_sfc*np.exp(-taus)\n",
    "for m in reversed(range(len(taus))):\n",
    "    test_sum_Fu = Fu_sfc*np.exp(-1*taus[m])\n",
    "    for j in range(m):\n",
    "        test_sum_Fu += 0.5*(sigma*(T_RCE[j]**4) * np.exp(taus[j] - taus[m]) + sigma*(T_RCE[j+1]**4) * np.exp(taus[j+1] - taus[m])) * (taus[j+1] - taus[j])\n",
    "    Fu.append(test_sum_Fu)\n",
    "Fu = Fu[::-1]\n",
    "Fu"
   ]
  },
  {
   "cell_type": "code",
   "execution_count": 224,
   "metadata": {},
   "outputs": [
    {
     "data": {
      "text/plain": [
       "251.98646176467682"
      ]
     },
     "execution_count": 224,
     "metadata": {},
     "output_type": "execute_result"
    }
   ],
   "source": [
    "# step 11 \n",
    "Fu_RE = So*(0.5*(tau_inf - taus[-1]) + 1)\n",
    "Fu_RE"
   ]
  },
  {
   "cell_type": "code",
   "execution_count": 225,
   "metadata": {},
   "outputs": [
    {
     "data": {
      "text/plain": [
       "-8.022919068686093"
      ]
     },
     "execution_count": 225,
     "metadata": {},
     "output_type": "execute_result"
    }
   ],
   "source": [
    "# step 12 - check for error\n",
    "error = Fu[-1] - Fu_RE\n",
    "error"
   ]
  },
  {
   "cell_type": "code",
   "execution_count": 8,
   "metadata": {},
   "outputs": [],
   "source": [
    "def get_error2(x):\n",
    "    tau_M = tau_inf*(1 - np.exp(-x/h))\n",
    "    Fd_m = So*(0.5*(tau_inf - tau_M))\n",
    "    taus = np.linspace(0, tau_M, 101)\n",
    "    zs = -h*(np.log(1 - (taus/tau_inf)))\n",
    "    T_RE = ((So/sigma)*(0.5*(tau_inf*np.exp(-zs/h)) + 0.5))**(1/4)\n",
    "    T_RCE = T_RE[-1] + LR*(zs-zs[-1])\n",
    "    Fd = []\n",
    "    for m in range(len(taus)):\n",
    "        test_sum = Fd_m*np.exp(taus[m] - taus[-1]) \n",
    "        for j in range(m,100):\n",
    "            test_sum += 0.5*(sigma*T_RCE[j]**4 * np.exp(taus[m] - taus[j]) + sigma*T_RCE[j+1]**4 * np.exp(taus[m] - taus[j+1])) * (taus[j+1] - taus[j])\n",
    "        Fd.append(test_sum)\n",
    "    T_b = (So + Fd[0] - (sigma*(T_RCE[0]**4)))/(4 * sigma * (T_RCE[0]**3) + k) + T_RCE[0]  \n",
    "    Fu_sfc = sigma*(T_RCE[0]**4) + (4*sigma*(T_RCE[0]**3))*(T_b - T_RCE[0])\n",
    "    Fu = []\n",
    "    for m in reversed(range(len(taus))):\n",
    "        test_sum_Fu = Fu_sfc*np.exp(-1*taus[m])\n",
    "        for j in range(m):\n",
    "            test_sum_Fu += 0.5*(sigma*(T_RCE[j]**4) * np.exp(taus[j] - taus[m]) + sigma*(T_RCE[j+1]**4) * np.exp(taus[j+1] - taus[m])) * (taus[j+1] - taus[j])\n",
    "        Fu.append(test_sum_Fu)\n",
    "    Fu = Fu[::-1]\n",
    "    Fu_RE = So*(0.5*(tau_inf - taus[-1]) + 1)\n",
    "    #Fd_RE = So*(0.5*(tau_inf - taus))\n",
    "    error = Fu[-1] - Fu_RE\n",
    "    \n",
    "    #return(error)\n",
    "    return(error,taus,zs,T_RE,T_RCE,Fd,Fu)"
   ]
  },
  {
   "cell_type": "code",
   "execution_count": null,
   "metadata": {},
   "outputs": [],
   "source": [
    "get_error2(10000)  "
   ]
  },
  {
   "cell_type": "code",
   "execution_count": 9,
   "metadata": {},
   "outputs": [
    {
     "name": "stdout",
     "output_type": "stream",
     "text": [
      "The value of root is :  10388.4445\n"
     ]
    }
   ],
   "source": [
    "a = 8000\n",
    "b = 13000\n",
    "\n",
    "c = a \n",
    "while ((b-a) >= 0.0001): \n",
    "\n",
    "    # Find middle point \n",
    "    c = (a+b)/2\n",
    "\n",
    "    # Check if middle point is root \n",
    "    if (get_error2(c)[0] == 0.0): \n",
    "        break\n",
    "\n",
    "    # Decide the side to repeat the steps \n",
    "    if (get_error2(c)[0]*get_error2(a)[0] < 0): \n",
    "        b = c \n",
    "    else: \n",
    "        a = c \n",
    "\n",
    "print(\"The value of root is : \",\"%.4f\"%c) \n",
    "error,taus,zs,T_RE,T_RCE,Fd,Fu  = get_error2(c)"
   ]
  },
  {
   "cell_type": "code",
   "execution_count": 232,
   "metadata": {},
   "outputs": [
    {
     "data": {
      "text/plain": [
       "11"
      ]
     },
     "execution_count": 232,
     "metadata": {},
     "output_type": "execute_result"
    }
   ],
   "source": [
    "len(zs)"
   ]
  },
  {
   "cell_type": "code",
   "execution_count": null,
   "metadata": {},
   "outputs": [],
   "source": []
  },
  {
   "cell_type": "code",
   "execution_count": 10,
   "metadata": {},
   "outputs": [],
   "source": [
    "new_zs = np.linspace(10388.4445, 16000, 100)\n",
    "new_tau = tau_inf*(1 - np.exp(-new_zs/h))\n",
    "Fu_new_zs = So*(0.5*(tau_inf - new_tau) + 1)\n",
    "Fd_new_zs = So*(0.5*(tau_inf - new_tau))\n",
    "T_m_new_zs = ((So/sigma)*(0.5*(tau_inf*np.exp(-new_zs/h)) + 0.5))**(1/4)\n",
    "T_m_adj_new_zs = T_m_new_zs[-1] + LR*(new_zs-new_zs[-1])"
   ]
  },
  {
   "cell_type": "code",
   "execution_count": 11,
   "metadata": {},
   "outputs": [
    {
     "data": {
      "text/plain": [
       "100"
      ]
     },
     "execution_count": 11,
     "metadata": {},
     "output_type": "execute_result"
    }
   ],
   "source": [
    "len(T_m_new_zs)"
   ]
  },
  {
   "cell_type": "code",
   "execution_count": 12,
   "metadata": {},
   "outputs": [],
   "source": [
    "# now we have to append our Fd_new_zs and Fu_new_zs to our Fd_int and Fu_int respectively. \n",
    "RCE_zs = np.concatenate([zs, new_zs])\n",
    "Fu_zs = np.concatenate([Fu, Fu_new_zs])\n",
    "Fd_zs = np.concatenate([Fd, Fd_new_zs])\n",
    "T_m_new_zs_test = np.concatenate([T_RE, T_m_new_zs ])\n",
    "T_m_adj_new_zs = np.concatenate([T_RCE, T_m_new_zs ])"
   ]
  },
  {
   "cell_type": "code",
   "execution_count": 13,
   "metadata": {},
   "outputs": [
    {
     "data": {
      "text/plain": [
       "201"
      ]
     },
     "execution_count": 13,
     "metadata": {},
     "output_type": "execute_result"
    }
   ],
   "source": [
    "len(T_m_adj_new_zs)"
   ]
  },
  {
   "cell_type": "markdown",
   "metadata": {},
   "source": [
    "Okay, so Fd_zs and Fu_zs are the RCE solutions below the BL with the RE solution above the BL.\n",
    "Now need to calculate RE for full atmospheric profile."
   ]
  },
  {
   "cell_type": "code",
   "execution_count": 14,
   "metadata": {},
   "outputs": [],
   "source": [
    "# RE profile\n",
    "RE_zs = np.linspace(0, 16000, 201)\n",
    "RE_tau = tau_inf*(1 - np.exp(-RE_zs/h))\n",
    "Fu_RE_zs = So*(0.5*(tau_inf - RE_tau) + 1)\n",
    "Fd_RE_zs = So*(0.5*(tau_inf - RE_tau))\n",
    "T_m_RE_zs = ((So/sigma)*(0.5*(tau_inf*np.exp(-RE_zs/h)) + 0.5))**(1/4)\n",
    "T_m_adj_RE_zs = T_m_RE_zs[-1] + LR*(RE_zs-RE_zs[-1])"
   ]
  },
  {
   "cell_type": "code",
   "execution_count": 15,
   "metadata": {},
   "outputs": [
    {
     "data": {
      "text/plain": [
       "201"
      ]
     },
     "execution_count": 15,
     "metadata": {},
     "output_type": "execute_result"
    }
   ],
   "source": [
    "len (Fd_RE_zs)"
   ]
  },
  {
   "cell_type": "code",
   "execution_count": 18,
   "metadata": {},
   "outputs": [
    {
     "data": {
      "text/plain": [
       "201"
      ]
     },
     "execution_count": 18,
     "metadata": {},
     "output_type": "execute_result"
    }
   ],
   "source": [
    "len(RCE_zs)"
   ]
  },
  {
   "cell_type": "code",
   "execution_count": 19,
   "metadata": {},
   "outputs": [
    {
     "data": {
      "text/plain": [
       "16000.0"
      ]
     },
     "execution_count": 19,
     "metadata": {},
     "output_type": "execute_result"
    }
   ],
   "source": [
    "RCE_zs.max()"
   ]
  },
  {
   "cell_type": "code",
   "execution_count": 20,
   "metadata": {},
   "outputs": [],
   "source": [
    "## Q_R"
   ]
  },
  {
   "cell_type": "code",
   "execution_count": 21,
   "metadata": {},
   "outputs": [],
   "source": [
    "rho = rho_0*np.exp(-zs/H)"
   ]
  },
  {
   "cell_type": "code",
   "execution_count": 22,
   "metadata": {},
   "outputs": [],
   "source": [
    "#Q_R = []\n",
    "#for j in range(0, len(RCE_zs)-1):\n",
    "#    testing = ((Fd_int_plot[j] - Fu_int_plot[j])*(Fd_int_plot[j-1] - Fu_int_plot[j-1]))\n",
    "    #test_sum_Fu_test += 0.5*(sigma*(T_m_adj[j]**4) * np.exp(tau[j] - tau[m]) + sigma*(T_m_adj[j-1]**4) * np.exp(tau[j-1] - tau[m])) * (tau[j] - tau[j-1])\n",
    "#Fu_int.append(test_sum_Fu_test+test_sum_Fu[m])"
   ]
  },
  {
   "cell_type": "code",
   "execution_count": 23,
   "metadata": {},
   "outputs": [
    {
     "data": {
      "text/plain": [
       "201"
      ]
     },
     "execution_count": 23,
     "metadata": {},
     "output_type": "execute_result"
    }
   ],
   "source": [
    "#QR_RCE = (86400/(rho_z*Cp))*np.gradient(RCE_Fd-RCE_Fu,RCE_zs*1000)\n",
    "#QR = (86400/(rho*Cp))*np.gradient(np.array(Fd_zs)-np.array(Fu_zs), RCE_zs)\n",
    "rho_RE = rho_0*np.exp(-RE_zs/H)\n",
    "QR_RE = (86400/(rho_RE*Cp))*np.gradient(np.array(Fd_RE_zs)-np.array(Fu_RE_zs), RE_zs)\n",
    "len(QR_RE)"
   ]
  },
  {
   "cell_type": "code",
   "execution_count": 24,
   "metadata": {},
   "outputs": [
    {
     "data": {
      "text/plain": [
       "101"
      ]
     },
     "execution_count": 24,
     "metadata": {},
     "output_type": "execute_result"
    }
   ],
   "source": [
    "rho_test = rho_0*np.exp(-zs/H)\n",
    "QR_test = (86400/(rho_test*Cp))*np.gradient(np.array(Fd)-np.array(Fu), zs) \n",
    "len(QR_test)"
   ]
  },
  {
   "cell_type": "code",
   "execution_count": 25,
   "metadata": {},
   "outputs": [
    {
     "data": {
      "text/plain": [
       "100"
      ]
     },
     "execution_count": 25,
     "metadata": {},
     "output_type": "execute_result"
    }
   ],
   "source": [
    "rho_RCE_test = rho_0*np.exp(-new_zs/H)\n",
    "QR_RCE_test = (86400/(rho_RCE_test*Cp))*np.gradient(np.array(Fd_new_zs)-np.array(Fu_new_zs), new_zs) \n",
    "len(QR_RCE_test)"
   ]
  },
  {
   "cell_type": "code",
   "execution_count": 26,
   "metadata": {},
   "outputs": [
    {
     "data": {
      "text/plain": [
       "array([1.225     , 1.22053668, 1.216046  , 1.2115275 , 1.20698074,\n",
       "       1.20240525, 1.19780056, 1.19316618, 1.1885016 , 1.1838063 ,\n",
       "       1.17907977, 1.17432143, 1.16953075, 1.16470714, 1.15984999,\n",
       "       1.15495871, 1.15003266, 1.14507119, 1.14007362, 1.13503928,\n",
       "       1.12996744, 1.12485738, 1.11970832, 1.1145195 , 1.1092901 ,\n",
       "       1.10401929, 1.0987062 , 1.09334994, 1.08794959, 1.08250418,\n",
       "       1.07701274, 1.07147422, 1.06588758, 1.0602517 , 1.05456545,\n",
       "       1.04882763, 1.04303701, 1.03719231, 1.0312922 , 1.02533528,\n",
       "       1.01932012, 1.01324521, 1.00710898, 1.00090979, 0.99464595,\n",
       "       0.98831566, 0.98191706, 0.9754482 , 0.96890705, 0.96229145,\n",
       "       0.95559917, 0.94882785, 0.94197501, 0.93503807, 0.92801427,\n",
       "       0.92090074, 0.91369442, 0.90639211, 0.89899041, 0.89148573,\n",
       "       0.88387424, 0.87615191, 0.86831445, 0.86035727, 0.85227551,\n",
       "       0.84406396, 0.83571707, 0.82722886, 0.81859295, 0.80980247,\n",
       "       0.80085   , 0.79172756, 0.78242648, 0.77293737, 0.76325003,\n",
       "       0.75335331, 0.74323501, 0.73288177, 0.72227884, 0.71140994,\n",
       "       0.700257  , 0.68879987, 0.67701598, 0.66487994, 0.65236301,\n",
       "       0.63943245, 0.62605073, 0.61217448, 0.59775318, 0.5827274 ,\n",
       "       0.56702648, 0.55056538, 0.5332403 , 0.5149224 , 0.49544862,\n",
       "       0.47460773, 0.45211811, 0.42759056, 0.40046165, 0.36986329,\n",
       "       0.33433402])"
      ]
     },
     "execution_count": 26,
     "metadata": {},
     "output_type": "execute_result"
    }
   ],
   "source": [
    "rho"
   ]
  },
  {
   "cell_type": "code",
   "execution_count": 28,
   "metadata": {},
   "outputs": [],
   "source": [
    "# concatenate Q_test and Q_RE_test\n",
    "QR = np.concatenate([QR_test, QR_RCE_test])"
   ]
  },
  {
   "cell_type": "code",
   "execution_count": 29,
   "metadata": {},
   "outputs": [
    {
     "data": {
      "text/plain": [
       "201"
      ]
     },
     "execution_count": 29,
     "metadata": {},
     "output_type": "execute_result"
    }
   ],
   "source": [
    "len(QR_RE)"
   ]
  },
  {
   "cell_type": "code",
   "execution_count": 30,
   "metadata": {},
   "outputs": [
    {
     "data": {
      "image/png": "[encoded data removed]",
      "text/plain": [
       "<Figure size 720x432 with 4 Axes>"
      ]
     },
     "metadata": {
      "needs_background": "light"
     },
     "output_type": "display_data"
    }
   ],
   "source": [
    "fig, ax = plt.subplots(ncols = 4, figsize = (10,6))\n",
    "\n",
    "ax[0].plot(T_m_RE_zs, RE_zs/1000, 'r', T_m_adj_new_zs, RCE_zs/1000, 'b')\n",
    "#plt.plot(T_surf, tao_values)\n",
    "ax[0].set_title('T', fontsize = 16)\n",
    "ax[0].set_xlabel('Temp (K)', fontsize = 14)\n",
    "ax[0].set_ylabel('Altitude (km)', fontsize = 14);\n",
    "ax[0].grid()\n",
    "#ax.set_ylim(0, 20);\n",
    "#ax.set_xlim(150, 350)\n",
    "#plt.axhline(y = pi_B_sfc, color = 'k', linewidth = 1.5, linestyle = '--')\n",
    "#plt.axhline(y = pi_B_above, color = 'k', linewidth = 1.5, linestyle = ':')\n",
    "#plt.axhline(y = So, color = 'k', linewidth = 1.5, linestyle = '-.')\n",
    "ax[0].legend(['RE', 'RCE'], fontsize = 14)\n",
    "\n",
    "ax[1].plot(Fd_RE_zs, RE_zs/1000, 'r', Fd_zs, RCE_zs/1000, 'b')\n",
    "#plt.plot(T_surf, tao_values)\n",
    "ax[1].set_title('Fd', fontsize = 16)\n",
    "ax[1].set_xlabel('Energy (Wm-2)', fontsize = 14)\n",
    "ax[1].set_ylabel(' ', fontsize = 14);\n",
    "ax[1].grid();\n",
    "ax[1].set_yticklabels([]);\n",
    "#ax.set_ylim(0, 20);\n",
    "#ax.set_xlim(150, 350)\n",
    "#plt.axhline(y = pi_B_sfc, color = 'k', linewidth = 1.5, linestyle = '--')\n",
    "#plt.axhline(y = pi_B_above, color = 'k', linewidth = 1.5, linestyle = ':')\n",
    "#plt.axhline(y = So, color = 'k', linewidth = 1.5, linestyle = '-.')\n",
    "#ax[1].legend(['Fd', 'Fu'], fontsize = 14)\n",
    "\n",
    "ax[2].plot(Fu_RE_zs, RE_zs/1000, 'r', Fu_zs, RCE_zs/1000, 'b')\n",
    "#plt.plot(T_surf, tao_values)\n",
    "ax[2].set_title('Fu', fontsize = 16)\n",
    "ax[2].set_xlabel('Energy (Wm-2)', fontsize = 14)\n",
    "ax[2].set_ylabel(' ', fontsize = 14);\n",
    "ax[2].grid()\n",
    "ax[2].set_yticklabels([]);\n",
    "#ax.set_ylim(0, 20);\n",
    "#ax.set_xlim(150, 350)\n",
    "#plt.axhline(y = pi_B_sfc, color = 'k', linewidth = 1.5, linestyle = '--')\n",
    "#plt.axhline(y = pi_B_above, color = 'k', linewidth = 1.5, linestyle = ':')\n",
    "#plt.axhline(y = So, color = 'k', linewidth = 1.5, linestyle = '-.')\n",
    "#ax[2].legend(['Fu'], fontsize = 14)\n",
    "\n",
    "ax[3].plot(QR_RE, RE_zs/1000, 'r', QR, RCE_zs/1000, 'b')\n",
    "#plt.plot(T_surf, tao_values)\n",
    "ax[3].set_title('Qr', fontsize = 16)\n",
    "ax[3].set_xlabel('Temp (K/day)', fontsize = 14)\n",
    "ax[3].set_ylabel(' ', fontsize = 14);\n",
    "ax[3].grid()\n",
    "ax[3].set_yticklabels([]);\n",
    "\n",
    "#fig.savefig('climate_dynamics_fig_1bi.png')"
   ]
  },
  {
   "cell_type": "code",
   "execution_count": 31,
   "metadata": {},
   "outputs": [
    {
     "data": {
      "text/plain": [
       "101"
      ]
     },
     "execution_count": 31,
     "metadata": {},
     "output_type": "execute_result"
    }
   ],
   "source": [
    "# Take difference between top and bottom Fu and Fd for both solutions \n",
    "len(Fu)"
   ]
  },
  {
   "cell_type": "code",
   "execution_count": 32,
   "metadata": {},
   "outputs": [
    {
     "data": {
      "text/plain": [
       "-163.41205298596293"
      ]
     },
     "execution_count": 32,
     "metadata": {},
     "output_type": "execute_result"
    }
   ],
   "source": [
    "## RCE \n",
    "(Fd[-1] - Fu[-1]) - (Fd[0]-Fu[0])"
   ]
  },
  {
   "cell_type": "code",
   "execution_count": 37,
   "metadata": {},
   "outputs": [
    {
     "data": {
      "text/plain": [
       "0.0"
      ]
     },
     "execution_count": 37,
     "metadata": {},
     "output_type": "execute_result"
    }
   ],
   "source": [
    "## RE \n",
    "#(Fd[-1] - Fu[-1]) - (Fd[0]-Fu[0])\n",
    "(Fd_RE_zs[RE_zs<10338.4][-1] - Fu_RE_zs[RE_zs<10338.4][-1]) - (Fd_RE_zs[RE_zs<10338.4][0] - Fu_RE_zs[RE_zs<10338.4][0])"
   ]
  },
  {
   "cell_type": "code",
   "execution_count": 38,
   "metadata": {},
   "outputs": [
    {
     "data": {
      "text/plain": [
       "-76.58794641908742"
      ]
     },
     "execution_count": 38,
     "metadata": {},
     "output_type": "execute_result"
    }
   ],
   "source": [
    "# RCE net radiative flux into the surface \n",
    "Fd[0]-Fu[0]"
   ]
  },
  {
   "cell_type": "code",
   "execution_count": 39,
   "metadata": {},
   "outputs": [
    {
     "data": {
      "text/plain": [
       "-240.0"
      ]
     },
     "execution_count": 39,
     "metadata": {},
     "output_type": "execute_result"
    }
   ],
   "source": [
    "# RE net radiative flux into the surface \n",
    "Fd_RE_zs[RE_zs<10338.4][0] - Fu_RE_zs[RE_zs<10338.4][0]"
   ]
  },
  {
   "cell_type": "markdown",
   "metadata": {},
   "source": [
    "Part C\n"
   ]
  },
  {
   "cell_type": "code",
   "execution_count": 42,
   "metadata": {},
   "outputs": [
    {
     "data": {
      "text/plain": [
       "201"
      ]
     },
     "execution_count": 42,
     "metadata": {},
     "output_type": "execute_result"
    }
   ],
   "source": [
    "# create taus from RE_zs \n",
    "RCE_taus = tau_inf*(1 - np.exp(-RE_zs/h))\n",
    "len(RCE_taus)"
   ]
  },
  {
   "cell_type": "code",
   "execution_count": 43,
   "metadata": {},
   "outputs": [],
   "source": [
    "Wz = np.exp(RCE_taus - tau_inf) * np.gradient(RCE_taus, RE_zs)"
   ]
  },
  {
   "cell_type": "code",
   "execution_count": 44,
   "metadata": {},
   "outputs": [],
   "source": [
    "f_OLR_RCE = (sigma * T_m_adj_new_zs**4 * Wz * h) / 240\n",
    "f_OLR_RE = (sigma * T_m_RE_zs**4 * Wz * h) / 240"
   ]
  },
  {
   "cell_type": "code",
   "execution_count": 62,
   "metadata": {},
   "outputs": [
    {
     "data": {
      "image/png": "[encoded data removed]",
      "text/plain": [
       "<Figure size 432x432 with 1 Axes>"
      ]
     },
     "metadata": {
      "needs_background": "light"
     },
     "output_type": "display_data"
    }
   ],
   "source": [
    "fig, ax = plt.subplots(figsize = (6,6))\n",
    "\n",
    "ax.plot(f_OLR_RE, RCE_taus, 'r', f_OLR_RCE, RCE_taus, 'b', Wz*h, RCE_taus, 'g')\n",
    "#plt.plot(T_surf, tao_values)\n",
    "ax.set_title('fractional contribution to OLR', fontsize = 16)\n",
    "ax.set_xlabel('fraction', fontsize = 14)\n",
    "ax.set_ylabel('tau', fontsize = 14);\n",
    "ax.grid()\n",
    "ax.set_ylim(0, tau_inf);\n",
    "ax.legend(['RE', 'RCE', 'Wz'], fontsize = 14);"
   ]
  },
  {
   "cell_type": "code",
   "execution_count": 63,
   "metadata": {},
   "outputs": [
    {
     "data": {
      "image/png": "[encoded data removed]",
      "text/plain": [
       "<Figure size 432x432 with 1 Axes>"
      ]
     },
     "metadata": {
      "needs_background": "light"
     },
     "output_type": "display_data"
    }
   ],
   "source": [
    "fig, ax = plt.subplots(figsize = (6,6))\n",
    "\n",
    "ax.plot(f_OLR_RE, RCE_zs/1000, 'r', f_OLR_RCE, RCE_zs/1000, 'b', Wz*h, RCE_zs/1000, 'g')\n",
    "#plt.plot(T_surf, tao_values)\n",
    "ax.set_title('fractional contribution to OLR', fontsize = 16)\n",
    "ax.set_xlabel('fraction', fontsize = 14)\n",
    "ax.set_ylabel('height', fontsize = 14);\n",
    "ax.grid()\n",
    "#plt.axhline(y = 10.3384, color = 'k', linewidth = 1.5, linestyle = '--')\n",
    "ax.set_ylim(0, 10.3384);\n",
    "ax.legend(['RE', 'RCE', 'Wz'], fontsize = 14);"
   ]
  },
  {
   "cell_type": "markdown",
   "metadata": {},
   "source": [
    "c. iii.\n",
    "Is W(z) largest where tau differs by unity from its TOA value (tau_inf), as previously derived?\n",
    "\n",
    "W(z) is largest just below the top of the mixed layer. \n",
    "\n",
    "Why is the largest contribution to OLR coming from a height that differs from where W(z) is largest?\n",
    "\n",
    "The largest contribution to OLR is coming from a height that differes from where W(z) is largest because...\n",
    "\n",
    "Why is the largest contribution to OLR in the radiative equilibrium coming from a lower level than the largest contribution in radiative-convective equilibrium?\n",
    "\n",
    "Water vapor (i.e. clouds?)"
   ]
  },
  {
   "cell_type": "markdown",
   "metadata": {},
   "source": [
    "c. iv.\n",
    "\n",
    "Calculate an emitting temperature TE by equating the net absorbed solar flux So to sigmaTE^4. Is this above or below the level making the maximum contribution to OLR? Why is this? (*Hint:* Consider the surface contribution to OLR.) What if the column opacity tau_M is increased? Does TE move closer to the level making the maximum contribution to OLR? Why? "
   ]
  },
  {
   "cell_type": "code",
   "execution_count": 66,
   "metadata": {},
   "outputs": [
    {
     "data": {
      "text/plain": [
       "255.0686277518965"
      ]
     },
     "execution_count": 66,
     "metadata": {},
     "output_type": "execute_result"
    }
   ],
   "source": [
    "Te = (So/sigma)**(1/4)\n",
    "Te"
   ]
  },
  {
   "cell_type": "code",
   "execution_count": null,
   "metadata": {},
   "outputs": [],
   "source": []
  },
  {
   "cell_type": "raw",
   "metadata": {},
   "source": [
    "Part d\n",
    "Solve for the mixed-layer depth using a dry adiabatic lapse rate = -g/Cp. (This should take you about five minutes, given that have already written the code.)"
   ]
  },
  {
   "cell_type": "code",
   "execution_count": 75,
   "metadata": {},
   "outputs": [],
   "source": [
    "LR_g = -g / Cp \n",
    "\n",
    "def get_error_partd(x):\n",
    "    tau_M = tau_inf*(1 - np.exp(-x/h))\n",
    "    Fd_m = So*(0.5*(tau_inf - tau_M))\n",
    "    taus = np.linspace(0, tau_M, 101)\n",
    "    zs = -h*(np.log(1 - (taus/tau_inf)))\n",
    "    T_RE = ((So/sigma)*(0.5*(tau_inf*np.exp(-zs/h)) + 0.5))**(1/4)\n",
    "    T_RCE = T_RE[-1] + LR_g*(zs-zs[-1])\n",
    "    Fd = []\n",
    "    for m in range(len(taus)):\n",
    "        test_sum = Fd_m*np.exp(taus[m] - taus[-1]) \n",
    "        for j in range(m,100):\n",
    "            test_sum += 0.5*(sigma*T_RCE[j]**4 * np.exp(taus[m] - taus[j]) + sigma*T_RCE[j+1]**4 * np.exp(taus[m] - taus[j+1])) * (taus[j+1] - taus[j])\n",
    "        Fd.append(test_sum)\n",
    "    T_b = (So + Fd[0] - (sigma*(T_RCE[0]**4)))/(4 * sigma * (T_RCE[0]**3) + k) + T_RCE[0]  \n",
    "    Fu_sfc = sigma*(T_RCE[0]**4) + (4*sigma*(T_RCE[0]**3))*(T_b - T_RCE[0])\n",
    "    Fu = []\n",
    "    for m in reversed(range(len(taus))):\n",
    "        test_sum_Fu = Fu_sfc*np.exp(-1*taus[m])\n",
    "        for j in range(m):\n",
    "            test_sum_Fu += 0.5*(sigma*(T_RCE[j]**4) * np.exp(taus[j] - taus[m]) + sigma*(T_RCE[j+1]**4) * np.exp(taus[j+1] - taus[m])) * (taus[j+1] - taus[j])\n",
    "        Fu.append(test_sum_Fu)\n",
    "    Fu = Fu[::-1]\n",
    "    Fu_RE = So*(0.5*(tau_inf - taus[-1]) + 1)\n",
    "    #Fd_RE = So*(0.5*(tau_inf - taus))\n",
    "    error = Fu[-1] - Fu_RE\n",
    "    \n",
    "    #return(error)\n",
    "    return(error,taus,zs,T_RE,T_RCE,Fd,Fu)"
   ]
  },
  {
   "cell_type": "code",
   "execution_count": 76,
   "metadata": {},
   "outputs": [
    {
     "name": "stdout",
     "output_type": "stream",
     "text": [
      "The value of root is :  6196.9459\n"
     ]
    }
   ],
   "source": [
    "a = 5000\n",
    "b = 30000\n",
    "\n",
    "c = a \n",
    "while ((b-a) >= 0.0001): \n",
    "\n",
    "    # Find middle point \n",
    "    c = (a+b)/2\n",
    "\n",
    "    # Check if middle point is root \n",
    "    if (get_error_partd(c)[0] == 0.0): \n",
    "        break\n",
    "\n",
    "    # Decide the side to repeat the steps \n",
    "    if (get_error_partd(c)[0]*get_error_partd(a)[0] < 0): \n",
    "        b = c \n",
    "    else: \n",
    "        a = c \n",
    "\n",
    "print(\"The value of root is : \",\"%.4f\"%c) \n",
    "error,taus,zs,T_RE,T_RCE,Fd,Fu  = get_error_partd(c)"
   ]
  },
  {
   "cell_type": "markdown",
   "metadata": {},
   "source": [
    "The mixed-layer depth using a drya adiabatic lapse rate is *6196.95 m*."
   ]
  },
  {
   "cell_type": "code",
   "execution_count": null,
   "metadata": {},
   "outputs": [],
   "source": []
  },
  {
   "cell_type": "markdown",
   "metadata": {},
   "source": [
    "Part e. Return to a 'moist' lapse rate. \n",
    "\n",
    "i. What is the tropopause height assuming that the scale height of the longwave absorber is 0.5 km?"
   ]
  },
  {
   "cell_type": "code",
   "execution_count": 84,
   "metadata": {},
   "outputs": [],
   "source": [
    "# change absorber scale height from h = 3 km to h = 0.5 km\n",
    "h = 0.5*1000\n",
    "def get_error_parte(x):\n",
    "    tau_M = tau_inf*(1 - np.exp(-x/h))\n",
    "    Fd_m = So*(0.5*(tau_inf - tau_M))\n",
    "    taus = np.linspace(0, tau_M, 101)\n",
    "    zs = -h*(np.log(1 - (taus/tau_inf)))\n",
    "    T_RE = ((So/sigma)*(0.5*(tau_inf*np.exp(-zs/h)) + 0.5))**(1/4)\n",
    "    T_RCE = T_RE[-1] + LR*(zs-zs[-1])\n",
    "    Fd = []\n",
    "    for m in range(len(taus)):\n",
    "        test_sum = Fd_m*np.exp(taus[m] - taus[-1]) \n",
    "        for j in range(m,100):\n",
    "            test_sum += 0.5*(sigma*T_RCE[j]**4 * np.exp(taus[m] - taus[j]) + sigma*T_RCE[j+1]**4 * np.exp(taus[m] - taus[j+1])) * (taus[j+1] - taus[j])\n",
    "        Fd.append(test_sum)\n",
    "    T_b = (So + Fd[0] - (sigma*(T_RCE[0]**4)))/(4 * sigma * (T_RCE[0]**3) + k) + T_RCE[0]  \n",
    "    Fu_sfc = sigma*(T_RCE[0]**4) + (4*sigma*(T_RCE[0]**3))*(T_b - T_RCE[0])\n",
    "    Fu = []\n",
    "    for m in reversed(range(len(taus))):\n",
    "        test_sum_Fu = Fu_sfc*np.exp(-1*taus[m])\n",
    "        for j in range(m):\n",
    "            test_sum_Fu += 0.5*(sigma*(T_RCE[j]**4) * np.exp(taus[j] - taus[m]) + sigma*(T_RCE[j+1]**4) * np.exp(taus[j+1] - taus[m])) * (taus[j+1] - taus[j])\n",
    "        Fu.append(test_sum_Fu)\n",
    "    Fu = Fu[::-1]\n",
    "    Fu_RE = So*(0.5*(tau_inf - taus[-1]) + 1)\n",
    "    #Fd_RE = So*(0.5*(tau_inf - taus))\n",
    "    error = Fu[-1] - Fu_RE\n",
    "    \n",
    "    #return(error)\n",
    "    return(error,taus,zs,T_RE,T_RCE,Fd,Fu)"
   ]
  },
  {
   "cell_type": "code",
   "execution_count": 78,
   "metadata": {},
   "outputs": [
    {
     "name": "stdout",
     "output_type": "stream",
     "text": [
      "The value of root is :  7706.3861\n"
     ]
    }
   ],
   "source": [
    "a = 5000\n",
    "b = 30000\n",
    "\n",
    "c = a \n",
    "while ((b-a) >= 0.0001): \n",
    "\n",
    "    # Find middle point \n",
    "    c = (a+b)/2\n",
    "\n",
    "    # Check if middle point is root \n",
    "    if (get_error_parte(c)[0] == 0.0): \n",
    "        break\n",
    "\n",
    "    # Decide the side to repeat the steps \n",
    "    if (get_error_parte(c)[0]*get_error_parte(a)[0] < 0): \n",
    "        b = c \n",
    "    else: \n",
    "        a = c \n",
    "\n",
    "print(\"The value of root is : \",\"%.4f\"%c) \n",
    "error,taus,zs,T_RE,T_RCE,Fd,Fu  = get_error_parte(c)"
   ]
  },
  {
   "cell_type": "markdown",
   "metadata": {},
   "source": [
    "The tropopause height assuming that the scale height of the longwave absorber is 0.5 km is *7706.39 m*."
   ]
  },
  {
   "cell_type": "markdown",
   "metadata": {},
   "source": [
    "ii. What is the tropopause height assuming that the scale height of the longwave absorber is 6 km?"
   ]
  },
  {
   "cell_type": "code",
   "execution_count": 85,
   "metadata": {},
   "outputs": [],
   "source": [
    "# change absorber scale height from h = 3 km to h = 0.5 km\n",
    "h = 6*1000\n",
    "def get_error_parte(x):\n",
    "    tau_M = tau_inf*(1 - np.exp(-x/h))\n",
    "    Fd_m = So*(0.5*(tau_inf - tau_M))\n",
    "    taus = np.linspace(0, tau_M, 101)\n",
    "    zs = -h*(np.log(1 - (taus/tau_inf)))\n",
    "    T_RE = ((So/sigma)*(0.5*(tau_inf*np.exp(-zs/h)) + 0.5))**(1/4)\n",
    "    T_RCE = T_RE[-1] + LR*(zs-zs[-1])\n",
    "    Fd = []\n",
    "    for m in range(len(taus)):\n",
    "        test_sum = Fd_m*np.exp(taus[m] - taus[-1]) \n",
    "        for j in range(m,100):\n",
    "            test_sum += 0.5*(sigma*T_RCE[j]**4 * np.exp(taus[m] - taus[j]) + sigma*T_RCE[j+1]**4 * np.exp(taus[m] - taus[j+1])) * (taus[j+1] - taus[j])\n",
    "        Fd.append(test_sum)\n",
    "    T_b = (So + Fd[0] - (sigma*(T_RCE[0]**4)))/(4 * sigma * (T_RCE[0]**3) + k) + T_RCE[0]  \n",
    "    Fu_sfc = sigma*(T_RCE[0]**4) + (4*sigma*(T_RCE[0]**3))*(T_b - T_RCE[0])\n",
    "    Fu = []\n",
    "    for m in reversed(range(len(taus))):\n",
    "        test_sum_Fu = Fu_sfc*np.exp(-1*taus[m])\n",
    "        for j in range(m):\n",
    "            test_sum_Fu += 0.5*(sigma*(T_RCE[j]**4) * np.exp(taus[j] - taus[m]) + sigma*(T_RCE[j+1]**4) * np.exp(taus[j+1] - taus[m])) * (taus[j+1] - taus[j])\n",
    "        Fu.append(test_sum_Fu)\n",
    "    Fu = Fu[::-1]\n",
    "    Fu_RE = So*(0.5*(tau_inf - taus[-1]) + 1)\n",
    "    #Fd_RE = So*(0.5*(tau_inf - taus))\n",
    "    error = Fu[-1] - Fu_RE\n",
    "    \n",
    "    #return(error)\n",
    "    return(error,taus,zs,T_RE,T_RCE,Fd,Fu)"
   ]
  },
  {
   "cell_type": "code",
   "execution_count": 80,
   "metadata": {},
   "outputs": [
    {
     "name": "stdout",
     "output_type": "stream",
     "text": [
      "The value of root is :  9722.8857\n"
     ]
    }
   ],
   "source": [
    "a = 5000\n",
    "b = 30000\n",
    "\n",
    "c = a \n",
    "while ((b-a) >= 0.0001): \n",
    "\n",
    "    # Find middle point \n",
    "    c = (a+b)/2\n",
    "\n",
    "    # Check if middle point is root \n",
    "    if (get_error_parte(c)[0] == 0.0): \n",
    "        break\n",
    "\n",
    "    # Decide the side to repeat the steps \n",
    "    if (get_error_parte(c)[0]*get_error_parte(a)[0] < 0): \n",
    "        b = c \n",
    "    else: \n",
    "        a = c \n",
    "\n",
    "print(\"The value of root is : \",\"%.4f\"%c) \n",
    "error,taus,zs,T_RE,T_RCE,Fd,Fu  = get_error_parte(c)"
   ]
  },
  {
   "cell_type": "markdown",
   "metadata": {},
   "source": [
    "The tropopause height assuming that the scale height of the longwave absorber is 3 km but tau_inf is 6 is *9722.89 m*."
   ]
  },
  {
   "cell_type": "markdown",
   "metadata": {},
   "source": [
    "iii. What is the tropopause height assuming that the scale height of the longwave absorber is 3 km but tau_inf = 6?"
   ]
  },
  {
   "cell_type": "code",
   "execution_count": 91,
   "metadata": {},
   "outputs": [],
   "source": [
    "# change absorber scale height from h = 3 km to h = 0.5 km\n",
    "tau_inf = 6\n",
    "h = 3*1000\n",
    "def get_error_parte(x):\n",
    "    tau_M = tau_inf*(1 - np.exp(-x/h))\n",
    "    Fd_m = So*(0.5*(tau_inf - tau_M))\n",
    "    taus = np.linspace(0, tau_M, 101)\n",
    "    zs = -h*(np.log(1 - (taus/tau_inf)))\n",
    "    T_RE = ((So/sigma)*(0.5*(tau_inf*np.exp(-zs/h)) + 0.5))**(1/4)\n",
    "    T_RCE = T_RE[-1] + LR*(zs-zs[-1])\n",
    "    Fd = []\n",
    "    for m in range(len(taus)):\n",
    "        test_sum = Fd_m*np.exp(taus[m] - taus[-1]) \n",
    "        for j in range(m,100):\n",
    "            test_sum += 0.5*(sigma*T_RCE[j]**4 * np.exp(taus[m] - taus[j]) + sigma*T_RCE[j+1]**4 * np.exp(taus[m] - taus[j+1])) * (taus[j+1] - taus[j])\n",
    "        Fd.append(test_sum)\n",
    "    T_b = (So + Fd[0] - (sigma*(T_RCE[0]**4)))/(4 * sigma * (T_RCE[0]**3) + k) + T_RCE[0]  \n",
    "    Fu_sfc = sigma*(T_RCE[0]**4) + (4*sigma*(T_RCE[0]**3))*(T_b - T_RCE[0])\n",
    "    Fu = []\n",
    "    for m in reversed(range(len(taus))):\n",
    "        test_sum_Fu = Fu_sfc*np.exp(-1*taus[m])\n",
    "        for j in range(m):\n",
    "            test_sum_Fu += 0.5*(sigma*(T_RCE[j]**4) * np.exp(taus[j] - taus[m]) + sigma*(T_RCE[j+1]**4) * np.exp(taus[j+1] - taus[m])) * (taus[j+1] - taus[j])\n",
    "        Fu.append(test_sum_Fu)\n",
    "    Fu = Fu[::-1]\n",
    "    Fu_RE = So*(0.5*(tau_inf - taus[-1]) + 1)\n",
    "    #Fd_RE = So*(0.5*(tau_inf - taus))\n",
    "    error = Fu[-1] - Fu_RE\n",
    "    \n",
    "    #return(error)\n",
    "    return(error,taus,zs,T_RE,T_RCE,Fd,Fu)"
   ]
  },
  {
   "cell_type": "code",
   "execution_count": 92,
   "metadata": {},
   "outputs": [
    {
     "name": "stdout",
     "output_type": "stream",
     "text": [
      "The value of root is :  12663.9204\n"
     ]
    }
   ],
   "source": [
    "a = 5000\n",
    "b = 30000\n",
    "\n",
    "c = a \n",
    "while ((b-a) >= 0.0001): \n",
    "\n",
    "    # Find middle point \n",
    "    c = (a+b)/2\n",
    "\n",
    "    # Check if middle point is root \n",
    "    if (get_error_parte(c)[0] == 0.0): \n",
    "        break\n",
    "\n",
    "    # Decide the side to repeat the steps \n",
    "    if (get_error_parte(c)[0]*get_error_parte(a)[0] < 0): \n",
    "        b = c \n",
    "    else: \n",
    "        a = c \n",
    "\n",
    "print(\"The value of root is : \",\"%.4f\"%c) \n",
    "error,taus,zs,T_RE,T_RCE,Fd,Fu  = get_error_parte(c)"
   ]
  },
  {
   "cell_type": "markdown",
   "metadata": {},
   "source": [
    "The tropopause height assuming that the scale height of the longwave absorber is 3 km but tau_inf is 6 is *12663.92 m*."
   ]
  },
  {
   "cell_type": "code",
   "execution_count": 7,
   "metadata": {},
   "outputs": [
    {
     "data": {
      "text/plain": [
       "2.700112818627693"
      ]
     },
     "execution_count": 7,
     "metadata": {},
     "output_type": "execute_result"
    }
   ],
   "source": [
    "# 1.a.i\n",
    "# z = 10*1000 # in m THIS IS WHERE WE WANT TO LOOP\n",
    "tau_M = tau_inf*(1 - np.exp(-z/h))\n",
    "tau_M"
   ]
  },
  {
   "cell_type": "code",
   "execution_count": 9,
   "metadata": {},
   "outputs": [
    {
     "data": {
      "text/plain": [
       "array([0.        , 0.27001128, 0.54002256, 0.81003385, 1.08004513,\n",
       "       1.35005641, 1.62006769, 1.89007897, 2.16009025, 2.43010154,\n",
       "       2.70011282])"
      ]
     },
     "execution_count": 9,
     "metadata": {},
     "output_type": "execute_result"
    }
   ],
   "source": [
    "# 1.a.ii\n",
    "tau = np.linspace(0,tau_M, npts)\n",
    "tau"
   ]
  },
  {
   "cell_type": "code",
   "execution_count": 10,
   "metadata": {},
   "outputs": [
    {
     "data": {
      "text/plain": [
       "[-0.0,\n",
       " 304.21372105790374,\n",
       " 642.7937636884712,\n",
       " 1024.5053592681377,\n",
       " 1461.964090770453,\n",
       " 1974.2842934414464,\n",
       " 2592.4870372588625,\n",
       " 3372.0506519342234,\n",
       " 4428.142659116738,\n",
       " 6072.438455625237,\n",
       " 10000.0]"
      ]
     },
     "execution_count": 10,
     "metadata": {},
     "output_type": "execute_result"
    }
   ],
   "source": [
    "z_m = []\n",
    "for t in np.linspace(0, tau_M, len(tau)):\n",
    "    z_calc_test = -h*(np.log(1 - (t/tau_inf)))\n",
    "    z_m.append(z_calc_test)\n",
    "z_m"
   ]
  },
  {
   "cell_type": "code",
   "execution_count": 11,
   "metadata": {},
   "outputs": [
    {
     "data": {
      "text/plain": [
       "[299.46456866315015,\n",
       " 293.99698464746103,\n",
       " 288.2061177367317,\n",
       " 282.04351264217644,\n",
       " 275.4482207719673,\n",
       " 268.3419479157948,\n",
       " 260.62153528098753,\n",
       " 252.1467642407374,\n",
       " 242.7194243561398,\n",
       " 232.04469359420852,\n",
       " 219.65271815609287]"
      ]
     },
     "execution_count": 11,
     "metadata": {},
     "output_type": "execute_result"
    }
   ],
   "source": [
    "# 1.a.iii\n",
    "T_m = []\n",
    "for l in (z_m):\n",
    "    T = ((So/sigma)*(0.5*(tau_inf*np.exp(-l/h)) + 0.5))**(1/4)\n",
    "    T_m.append(T)\n",
    "T_m"
   ]
  },
  {
   "cell_type": "code",
   "execution_count": 12,
   "metadata": {},
   "outputs": [
    {
     "data": {
      "text/plain": [
       "array([278.27821616, 276.49474807, 274.50980571, 272.27200247,\n",
       "       269.70737887, 266.70387617, 263.0796318 , 258.50940129,\n",
       "       252.3180093 , 242.67824331, 219.65271816])"
      ]
     },
     "execution_count": 12,
     "metadata": {},
     "output_type": "execute_result"
    }
   ],
   "source": [
    "T_m_adj = T_m[-1] + LR*(z_m-z_m[-1]) # calculated adjusted temperature with dynamically relaxed lapse rate T\n",
    "T_m_adj"
   ]
  },
  {
   "cell_type": "code",
   "execution_count": 13,
   "metadata": {},
   "outputs": [
    {
     "data": {
      "text/plain": [
       "11.986461764676815"
      ]
     },
     "execution_count": 13,
     "metadata": {},
     "output_type": "execute_result"
    }
   ],
   "source": [
    "# 1.a.iv.\n",
    "# define f_d\n",
    "Fd = So*(0.5*(tau_inf - tau_M))\n",
    "Fd"
   ]
  },
  {
   "cell_type": "code",
   "execution_count": 27,
   "metadata": {},
   "outputs": [],
   "source": [
    "# 1.a.iv.\n",
    "Fd_int = []\n",
    "for m in range(0, len(tau)-1,1):\n",
    "    test_sum = Fd*np.exp(tau[m] - tau[-1]) \n",
    "    for j in range(m,10):\n",
    "        test_sum += 0.5*(sigma*T_m_adj[j]**4 * np.exp(tau[m] - tau[j]) + sigma*T_m_adj[j+1]**4 * np.exp(tau[m] - tau[j+1])) * (tau[j+1] - tau[j])\n",
    "    Fd_int.append(test_sum)    \n",
    "Fd_int.append(Fd)"
   ]
  },
  {
   "cell_type": "code",
   "execution_count": 28,
   "metadata": {},
   "outputs": [
    {
     "data": {
      "text/plain": [
       "[288.5573952849865,\n",
       " 273.13211638004265,\n",
       " 255.72306887854103,\n",
       " 235.98263519124538,\n",
       " 213.51999156373574,\n",
       " 187.9159054361237,\n",
       " 158.76216083115983,\n",
       " 125.7558105398632,\n",
       " 88.92921331749068,\n",
       " 49.30218028105156,\n",
       " 11.986461764676815]"
      ]
     },
     "execution_count": 28,
     "metadata": {},
     "output_type": "execute_result"
    }
   ],
   "source": [
    "Fd_int"
   ]
  },
  {
   "cell_type": "code",
   "execution_count": 16,
   "metadata": {},
   "outputs": [
    {
     "data": {
      "text/plain": [
       "282.7793507426883"
      ]
     },
     "execution_count": 16,
     "metadata": {},
     "output_type": "execute_result"
    }
   ],
   "source": [
    "T_b = (So + Fd_int[0] - (sigma*(T_m_adj[0]**4)))/(4 * sigma * (T_m_adj[0]**3) + k) + T_m_adj[0]  \n",
    "T_b"
   ]
  },
  {
   "cell_type": "code",
   "execution_count": 17,
   "metadata": {},
   "outputs": [
    {
     "data": {
      "text/plain": [
       "362.0154158757774"
      ]
     },
     "execution_count": 17,
     "metadata": {},
     "output_type": "execute_result"
    }
   ],
   "source": [
    "# calc upward longwave flux at the surface \n",
    "Fu_sfc = sigma*(T_m_adj[0]**4) + (4*sigma*(T_m_adj[0]**3))*(T_b - T_m_adj[0])\n",
    "Fu_sfc"
   ]
  },
  {
   "cell_type": "code",
   "execution_count": 18,
   "metadata": {},
   "outputs": [
    {
     "data": {
      "text/plain": [
       "[362.0154158757774,\n",
       " 356.1325214503853,\n",
       " 349.48102801550993,\n",
       " 342.033119519753,\n",
       " 333.7160253279469,\n",
       " 324.39969386937776,\n",
       " 313.8706779890539,\n",
       " 301.7761785012528,\n",
       " 287.48942302510835,\n",
       " 269.69514063008455,\n",
       " 243.96354269599075]"
      ]
     },
     "execution_count": 18,
     "metadata": {},
     "output_type": "execute_result"
    }
   ],
   "source": [
    "Fu_int = []\n",
    "test_sum_Fu = Fu_sfc*np.exp(-tau)\n",
    "for m in range(len(tau)-1, 0, -1):\n",
    "    test_sum_Fu_test = 0\n",
    "    for j in range(1,m+1):\n",
    "        test_sum_Fu_test += 0.5*(sigma*(T_m_adj[j]**4) * np.exp(tau[j] - tau[m]) + sigma*(T_m_adj[j-1]**4) * np.exp(tau[j-1] - tau[m])) * (tau[j] - tau[j-1])\n",
    "    Fu_int.append(test_sum_Fu_test+test_sum_Fu[m])\n",
    "\n",
    "Fu_int.append(Fu_sfc)\n",
    "Fu_int = Fu_int[::-1]\n",
    "Fu_int"
   ]
  },
  {
   "cell_type": "code",
   "execution_count": 19,
   "metadata": {},
   "outputs": [
    {
     "data": {
      "text/plain": [
       "251.98646176467682"
      ]
     },
     "execution_count": 19,
     "metadata": {},
     "output_type": "execute_result"
    }
   ],
   "source": [
    "Fu_RE = So*(0.5*(tau_inf - tau[-1]) + 1)\n",
    "Fu_RE"
   ]
  },
  {
   "cell_type": "code",
   "execution_count": 20,
   "metadata": {},
   "outputs": [
    {
     "data": {
      "text/plain": [
       "-8.022919068686065"
      ]
     },
     "execution_count": 20,
     "metadata": {},
     "output_type": "execute_result"
    }
   ],
   "source": [
    "Fu_error = Fu_int[-1] - Fu_RE\n",
    "Fu_error"
   ]
  },
  {
   "cell_type": "code",
   "execution_count": null,
   "metadata": {},
   "outputs": [],
   "source": []
  }
 ],
 "metadata": {
  "kernelspec": {
   "display_name": "Python 3",
   "language": "python",
   "name": "python3"
  },
  "language_info": {
   "codemirror_mode": {
    "name": "ipython",
    "version": 3
   },
   "file_extension": ".py",
   "mimetype": "text/x-python",
   "name": "python",
   "nbconvert_exporter": "python",
   "pygments_lexer": "ipython3",
   "version": "3.6.6"
  }
 },
 "nbformat": 4,
 "nbformat_minor": 2
}
